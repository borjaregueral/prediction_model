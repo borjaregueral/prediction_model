{
 "cells": [
  {
   "cell_type": "code",
   "execution_count": null,
   "metadata": {},
   "outputs": [],
   "source": [
    "import pandas as pd\n",
    "import itertools\n",
    "import plotly.express as px\n",
    "from tqdm import tqdm\n",
    "import os"
   ]
  },
  {
   "cell_type": "code",
   "execution_count": null,
   "metadata": {},
   "outputs": [],
   "source": [
    "transformed = os.path.join(\".\", \"data/silver/2023/\")\n",
    "\n",
    "# Construct the full path to the Parquet file\n",
    "file_path = os.path.join(transformed, \"ts_data_2023-01.parquet\")"
   ]
  },
  {
   "cell_type": "code",
   "execution_count": null,
   "metadata": {},
   "outputs": [],
   "source": [
    "rides = pd.read_parquet(file_path)"
   ]
  },
  {
   "cell_type": "code",
   "execution_count": null,
   "metadata": {},
   "outputs": [],
   "source": [
    "def add_missing_times(data: pd.DataFrame, freq: str = 'h') -> pd.DataFrame:\n",
    "    # Generate all possible intervals\n",
    "    all_intervals = pd.date_range(start=data['pickup_time_hour'].min(), \n",
    "                                  end=data['pickup_time_hour'].max(), \n",
    "                                  freq=freq)\n",
    "    \n",
    "    # Generate all possible locations\n",
    "    all_locations = data['pickup_location_id'].unique()\n",
    "\n",
    "    # Create a full DataFrame with all intervals and locations\n",
    "    full_index = pd.MultiIndex.from_product([all_intervals, all_locations], \n",
    "                                            names=['pickup_time_hour', 'pickup_location_id'])\n",
    "    \n",
    "    full_data = pd.DataFrame(index=full_index).reset_index()\n",
    "    \n",
    "    # Merge with progress bar\n",
    "    with tqdm(total=len(full_data), desc=\"Merging data\", unit=\"rows\") as pbar:\n",
    "        full_data = full_data.merge(data, on=['pickup_time_hour', 'pickup_location_id'], how='left').fillna(0)\n",
    "        pbar.update(len(full_data))\n",
    "    \n",
    "    return full_data"
   ]
  },
  {
   "cell_type": "code",
   "execution_count": null,
   "metadata": {},
   "outputs": [],
   "source": [
    "def plot_rides(df: pd.DataFrame, location: str, time_col: str = 'pickup_datetime', location_col: str = 'pickup_location_id', ride_count_col: str = 'ride_count') -> None:\n",
    "    \n",
    "    # Ensure the time column is in datetime format\n",
    "    df[time_col] = pd.to_datetime(df[time_col])\n",
    "    \n",
    "    # Filter the DataFrame for the specified location\n",
    "    df_location = df[df[location_col] == location]\n",
    "    \n",
    "    # Group by the time column and sum the ride counts\n",
    "    df_grouped = df_location.groupby(time_col)[ride_count_col].sum().reset_index()\n",
    "    \n",
    "    # Plot the data using Plotly\n",
    "    fig = px.line(df_grouped, x=time_col, y=ride_count_col, title=f'Number of Rides by hour for Location {location}')\n",
    "    \n",
    "    fig.show()"
   ]
  },
  {
   "cell_type": "code",
   "execution_count": null,
   "metadata": {},
   "outputs": [],
   "source": [
    "rides"
   ]
  },
  {
   "cell_type": "code",
   "execution_count": null,
   "metadata": {},
   "outputs": [],
   "source": [
    "# Group by pickup_quarter_hour and pickup_location, and count the rides\n",
    "rides_1 = (\n",
    "    rides0\n",
    "    .assign(\n",
    "        pickup_time_hour=lambda df: df[\"pickup_time\"].dt.floor('h').astype('datetime64[us]')\n",
    "    )\n",
    "   .groupby(['pickup_time_hour', 'pickup_location_id'])\n",
    "   .size()\n",
    "   .reset_index(name='ride_count')\n",
    ")"
   ]
  },
  {
   "cell_type": "code",
   "execution_count": null,
   "metadata": {},
   "outputs": [],
   "source": [
    "rides_1"
   ]
  },
  {
   "cell_type": "code",
   "execution_count": null,
   "metadata": {},
   "outputs": [],
   "source": [
    "plot_rides(rides_1, 42)"
   ]
  },
  {
   "cell_type": "code",
   "execution_count": null,
   "metadata": {},
   "outputs": [],
   "source": [
    "rides = add_missing_times(rides_1)"
   ]
  },
  {
   "cell_type": "code",
   "execution_count": null,
   "metadata": {},
   "outputs": [],
   "source": [
    "rides_1"
   ]
  },
  {
   "cell_type": "code",
   "execution_count": null,
   "metadata": {},
   "outputs": [],
   "source": [
    "plot_rides(rides_1, location=43, time_col='pickup_time_hour', location_col='pickup_location_id', ride_count_col='ride_count')"
   ]
  },
  {
   "cell_type": "code",
   "execution_count": null,
   "metadata": {},
   "outputs": [],
   "source": [
    "rides.to_parquet(transformed + \"rides_by_hour_location_2024_01.parquet\", index=False)"
   ]
  }
 ],
 "metadata": {
  "kernelspec": {
   "display_name": "taxi-demand-predictor-A_2bi8Y3-py3.11",
   "language": "python",
   "name": "python3"
  },
  "language_info": {
   "codemirror_mode": {
    "name": "ipython",
    "version": 3
   },
   "file_extension": ".py",
   "mimetype": "text/x-python",
   "name": "python",
   "nbconvert_exporter": "python",
   "pygments_lexer": "ipython3",
   "version": "3.11.9"
  }
 },
 "nbformat": 4,
 "nbformat_minor": 2
}
