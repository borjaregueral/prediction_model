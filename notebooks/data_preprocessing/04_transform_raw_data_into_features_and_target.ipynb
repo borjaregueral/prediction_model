{
 "cells": [
  {
   "cell_type": "code",
   "execution_count": 4,
   "metadata": {},
   "outputs": [],
   "source": [
    "%reload_ext autoreload\n",
    "%autoreload 2"
   ]
  },
  {
   "cell_type": "code",
   "execution_count": 3,
   "metadata": {},
   "outputs": [
    {
     "name": "stderr",
     "output_type": "stream",
     "text": [
      "2024-08-01 14:07:04,643 - INFO - Folder \"data\" ensured at \"/Users/borja/Documents/Somniumrema/projects/ml/taxi_demand_predictor/data\"\n",
      "2024-08-01 14:07:04,644 - INFO - Folder \"raw\" ensured at \"/Users/borja/Documents/Somniumrema/projects/ml/taxi_demand_predictor/data/raw\"\n",
      "2024-08-01 14:07:04,645 - INFO - Folder \"processed\" ensured at \"/Users/borja/Documents/Somniumrema/projects/ml/taxi_demand_predictor/data/bronze\"\n",
      "2024-08-01 14:07:04,645 - INFO - Folder \"transformed\" ensured at \"/Users/borja/Documents/Somniumrema/projects/ml/taxi_demand_predictor/data/silver\"\n",
      "2024-08-01 14:07:04,646 - INFO - Folder \"transformed\" ensured at \"/Users/borja/Documents/Somniumrema/projects/ml/taxi_demand_predictor/data/gold\"\n"
     ]
    }
   ],
   "source": [
    "import glob\n",
    "import logging\n",
    "import sys\n",
    "import pandas as pd\n",
    "from data import (\n",
    "    download_data_files,\n",
    "    validate_and_save_data,\n",
    "    transform_data,\n",
    "    add_missing_times,\n",
    "    transform_save_data_into_ts_data,\n",
    "    generate_training_set,\n",
    "    join_parquet_files\n",
    ")\n",
    "import inspect\n",
    "import re\n",
    "from pathlib import Path"
   ]
  },
  {
   "cell_type": "code",
   "execution_count": 3,
   "metadata": {},
   "outputs": [
    {
     "name": "stderr",
     "output_type": "stream",
     "text": [
      "2024-08-01 12:41:13,952 - INFO - File yellow_tripdata_2023-01.parquet already exists. Skipping download.\n",
      "2024-08-01 12:41:13,952 - INFO - File yellow_tripdata_2023-02.parquet already exists. Skipping download.\n",
      "2024-08-01 12:41:13,953 - INFO - File yellow_tripdata_2023-03.parquet already exists. Skipping download.\n",
      "2024-08-01 12:41:13,953 - INFO - File yellow_tripdata_2023-04.parquet already exists. Skipping download.\n",
      "2024-08-01 12:41:13,954 - INFO - File yellow_tripdata_2023-05.parquet already exists. Skipping download.\n",
      "2024-08-01 12:41:13,954 - INFO - File yellow_tripdata_2023-06.parquet already exists. Skipping download.\n",
      "2024-08-01 12:41:13,954 - INFO - File yellow_tripdata_2023-07.parquet already exists. Skipping download.\n",
      "2024-08-01 12:41:13,954 - INFO - File yellow_tripdata_2023-08.parquet already exists. Skipping download.\n",
      "2024-08-01 12:41:13,954 - INFO - File yellow_tripdata_2023-09.parquet already exists. Skipping download.\n",
      "2024-08-01 12:41:13,955 - INFO - File yellow_tripdata_2023-10.parquet already exists. Skipping download.\n",
      "2024-08-01 12:41:13,955 - INFO - File yellow_tripdata_2023-11.parquet already exists. Skipping download.\n",
      "2024-08-01 12:41:13,955 - INFO - File yellow_tripdata_2023-12.parquet already exists. Skipping download.\n"
     ]
    },
    {
     "name": "stdout",
     "output_type": "stream",
     "text": [
      "yellow_tripdata_2023-01.parquet skipped\n",
      "yellow_tripdata_2023-02.parquet skipped\n",
      "yellow_tripdata_2023-03.parquet skipped\n",
      "yellow_tripdata_2023-04.parquet skipped\n",
      "yellow_tripdata_2023-05.parquet skipped\n",
      "yellow_tripdata_2023-06.parquet skipped\n",
      "yellow_tripdata_2023-07.parquet skipped\n",
      "yellow_tripdata_2023-08.parquet skipped\n",
      "yellow_tripdata_2023-09.parquet skipped\n",
      "yellow_tripdata_2023-10.parquet skipped\n",
      "yellow_tripdata_2023-11.parquet skipped\n",
      "yellow_tripdata_2023-12.parquet skipped\n",
      "All available files have been downloaded.\n"
     ]
    },
    {
     "data": {
      "text/plain": [
       "['raw/2023/yellow_tripdata_2023-01.parquet',\n",
       " 'raw/2023/yellow_tripdata_2023-02.parquet',\n",
       " 'raw/2023/yellow_tripdata_2023-03.parquet',\n",
       " 'raw/2023/yellow_tripdata_2023-04.parquet',\n",
       " 'raw/2023/yellow_tripdata_2023-05.parquet',\n",
       " 'raw/2023/yellow_tripdata_2023-06.parquet',\n",
       " 'raw/2023/yellow_tripdata_2023-07.parquet',\n",
       " 'raw/2023/yellow_tripdata_2023-08.parquet',\n",
       " 'raw/2023/yellow_tripdata_2023-09.parquet',\n",
       " 'raw/2023/yellow_tripdata_2023-10.parquet',\n",
       " 'raw/2023/yellow_tripdata_2023-11.parquet',\n",
       " 'raw/2023/yellow_tripdata_2023-12.parquet']"
      ]
     },
     "execution_count": 3,
     "metadata": {},
     "output_type": "execute_result"
    }
   ],
   "source": [
    "# Configure logging for Jupyter Notebook\n",
    "logging.basicConfig(\n",
    "    level=logging.INFO,\n",
    "    format='%(asctime)s - %(levelname)s - %(message)s',\n",
    "    handlers=[logging.StreamHandler(sys.stdout)]\n",
    ")\n",
    "\n",
    "url = 'https://d37ci6vzurychx.cloudfront.net/trip-data/'\n",
    "rides = download_data_files(url, year=2023)\n",
    "rides"
   ]
  },
  {
   "cell_type": "code",
   "execution_count": 4,
   "metadata": {},
   "outputs": [
    {
     "ename": "FileNotFoundError",
     "evalue": "[Errno 2] No such file or directory: '/Users/borja/Documents/Somniumrema/projects/ml/taxi_demand_predictor/data/raw/2024/yellow_tripdata_2024-01.parquet'",
     "output_type": "error",
     "traceback": [
      "\u001b[0;31m---------------------------------------------------------------------------\u001b[0m",
      "\u001b[0;31mFileNotFoundError\u001b[0m                         Traceback (most recent call last)",
      "Cell \u001b[0;32mIn[4], line 2\u001b[0m\n\u001b[1;32m      1\u001b[0m path \u001b[38;5;241m=\u001b[39m \u001b[38;5;124m'\u001b[39m\u001b[38;5;124m/Users/borja/Documents/Somniumrema/projects/ml/taxi_demand_predictor/data/raw/2024/yellow_tripdata_2024-01.parquet\u001b[39m\u001b[38;5;124m'\u001b[39m\n\u001b[0;32m----> 2\u001b[0m rides \u001b[38;5;241m=\u001b[39m \u001b[43mvalidate_and_save_data\u001b[49m\u001b[43m(\u001b[49m\u001b[43mpath\u001b[49m\u001b[43m,\u001b[49m\u001b[43m \u001b[49m\u001b[38;5;241;43m2023\u001b[39;49m\u001b[43m,\u001b[49m\u001b[43m \u001b[49m\u001b[38;5;241;43m1\u001b[39;49m\u001b[43m)\u001b[49m\n\u001b[1;32m      3\u001b[0m rides\u001b[38;5;241m.\u001b[39mtail()\n",
      "File \u001b[0;32m~/Documents/Somniumrema/projects/ml/taxi_demand_predictor/src/data.py:91\u001b[0m, in \u001b[0;36mvalidate_and_save_data\u001b[0;34m(file_path, year, month)\u001b[0m\n\u001b[1;32m     82\u001b[0m \u001b[38;5;250m\u001b[39m\u001b[38;5;124;03m\"\"\"\u001b[39;00m\n\u001b[1;32m     83\u001b[0m \u001b[38;5;124;03mValidates and saves the data for a specific year and month.\u001b[39;00m\n\u001b[1;32m     84\u001b[0m \n\u001b[0;32m   (...)\u001b[0m\n\u001b[1;32m     88\u001b[0m \u001b[38;5;124;03m:return: The validated DataFrame.\u001b[39;00m\n\u001b[1;32m     89\u001b[0m \u001b[38;5;124;03m\"\"\"\u001b[39;00m\n\u001b[1;32m     90\u001b[0m \u001b[38;5;66;03m# Load the raw data\u001b[39;00m\n\u001b[0;32m---> 91\u001b[0m rides \u001b[38;5;241m=\u001b[39m \u001b[43mpd\u001b[49m\u001b[38;5;241;43m.\u001b[39;49m\u001b[43mread_parquet\u001b[49m\u001b[43m(\u001b[49m\u001b[43mfile_path\u001b[49m\u001b[43m)\u001b[49m\n\u001b[1;32m     93\u001b[0m \u001b[38;5;66;03m# Validate the data\u001b[39;00m\n\u001b[1;32m     94\u001b[0m rides \u001b[38;5;241m=\u001b[39m (\n\u001b[1;32m     95\u001b[0m     rides[[\u001b[38;5;124m'\u001b[39m\u001b[38;5;124mtpep_pickup_datetime\u001b[39m\u001b[38;5;124m'\u001b[39m, \u001b[38;5;124m'\u001b[39m\u001b[38;5;124mPULocationID\u001b[39m\u001b[38;5;124m'\u001b[39m]]\n\u001b[1;32m     96\u001b[0m     \u001b[38;5;241m.\u001b[39mrename(columns\u001b[38;5;241m=\u001b[39m{\u001b[38;5;124m'\u001b[39m\u001b[38;5;124mtpep_pickup_datetime\u001b[39m\u001b[38;5;124m'\u001b[39m: \u001b[38;5;124m'\u001b[39m\u001b[38;5;124mpickup_datetime\u001b[39m\u001b[38;5;124m'\u001b[39m, \u001b[38;5;124m'\u001b[39m\u001b[38;5;124mPULocationID\u001b[39m\u001b[38;5;124m'\u001b[39m: \u001b[38;5;124m'\u001b[39m\u001b[38;5;124mpickup_location_id\u001b[39m\u001b[38;5;124m'\u001b[39m})\n\u001b[1;32m     97\u001b[0m     \u001b[38;5;241m.\u001b[39massign(pickup_time\u001b[38;5;241m=\u001b[39m\u001b[38;5;28;01mlambda\u001b[39;00m x: x[\u001b[38;5;124m'\u001b[39m\u001b[38;5;124mpickup_datetime\u001b[39m\u001b[38;5;124m'\u001b[39m])\n\u001b[1;32m     98\u001b[0m )\n",
      "File \u001b[0;32m~/Library/Caches/pypoetry/virtualenvs/taxi-demand-predictor-A_2bi8Y3-py3.11/lib/python3.11/site-packages/pandas/io/parquet.py:667\u001b[0m, in \u001b[0;36mread_parquet\u001b[0;34m(path, engine, columns, storage_options, use_nullable_dtypes, dtype_backend, filesystem, filters, **kwargs)\u001b[0m\n\u001b[1;32m    664\u001b[0m     use_nullable_dtypes \u001b[38;5;241m=\u001b[39m \u001b[38;5;28;01mFalse\u001b[39;00m\n\u001b[1;32m    665\u001b[0m check_dtype_backend(dtype_backend)\n\u001b[0;32m--> 667\u001b[0m \u001b[38;5;28;01mreturn\u001b[39;00m \u001b[43mimpl\u001b[49m\u001b[38;5;241;43m.\u001b[39;49m\u001b[43mread\u001b[49m\u001b[43m(\u001b[49m\n\u001b[1;32m    668\u001b[0m \u001b[43m    \u001b[49m\u001b[43mpath\u001b[49m\u001b[43m,\u001b[49m\n\u001b[1;32m    669\u001b[0m \u001b[43m    \u001b[49m\u001b[43mcolumns\u001b[49m\u001b[38;5;241;43m=\u001b[39;49m\u001b[43mcolumns\u001b[49m\u001b[43m,\u001b[49m\n\u001b[1;32m    670\u001b[0m \u001b[43m    \u001b[49m\u001b[43mfilters\u001b[49m\u001b[38;5;241;43m=\u001b[39;49m\u001b[43mfilters\u001b[49m\u001b[43m,\u001b[49m\n\u001b[1;32m    671\u001b[0m \u001b[43m    \u001b[49m\u001b[43mstorage_options\u001b[49m\u001b[38;5;241;43m=\u001b[39;49m\u001b[43mstorage_options\u001b[49m\u001b[43m,\u001b[49m\n\u001b[1;32m    672\u001b[0m \u001b[43m    \u001b[49m\u001b[43muse_nullable_dtypes\u001b[49m\u001b[38;5;241;43m=\u001b[39;49m\u001b[43muse_nullable_dtypes\u001b[49m\u001b[43m,\u001b[49m\n\u001b[1;32m    673\u001b[0m \u001b[43m    \u001b[49m\u001b[43mdtype_backend\u001b[49m\u001b[38;5;241;43m=\u001b[39;49m\u001b[43mdtype_backend\u001b[49m\u001b[43m,\u001b[49m\n\u001b[1;32m    674\u001b[0m \u001b[43m    \u001b[49m\u001b[43mfilesystem\u001b[49m\u001b[38;5;241;43m=\u001b[39;49m\u001b[43mfilesystem\u001b[49m\u001b[43m,\u001b[49m\n\u001b[1;32m    675\u001b[0m \u001b[43m    \u001b[49m\u001b[38;5;241;43m*\u001b[39;49m\u001b[38;5;241;43m*\u001b[39;49m\u001b[43mkwargs\u001b[49m\u001b[43m,\u001b[49m\n\u001b[1;32m    676\u001b[0m \u001b[43m\u001b[49m\u001b[43m)\u001b[49m\n",
      "File \u001b[0;32m~/Library/Caches/pypoetry/virtualenvs/taxi-demand-predictor-A_2bi8Y3-py3.11/lib/python3.11/site-packages/pandas/io/parquet.py:267\u001b[0m, in \u001b[0;36mPyArrowImpl.read\u001b[0;34m(self, path, columns, filters, use_nullable_dtypes, dtype_backend, storage_options, filesystem, **kwargs)\u001b[0m\n\u001b[1;32m    264\u001b[0m \u001b[38;5;28;01mif\u001b[39;00m manager \u001b[38;5;241m==\u001b[39m \u001b[38;5;124m\"\u001b[39m\u001b[38;5;124marray\u001b[39m\u001b[38;5;124m\"\u001b[39m:\n\u001b[1;32m    265\u001b[0m     to_pandas_kwargs[\u001b[38;5;124m\"\u001b[39m\u001b[38;5;124msplit_blocks\u001b[39m\u001b[38;5;124m\"\u001b[39m] \u001b[38;5;241m=\u001b[39m \u001b[38;5;28;01mTrue\u001b[39;00m  \u001b[38;5;66;03m# type: ignore[assignment]\u001b[39;00m\n\u001b[0;32m--> 267\u001b[0m path_or_handle, handles, filesystem \u001b[38;5;241m=\u001b[39m \u001b[43m_get_path_or_handle\u001b[49m\u001b[43m(\u001b[49m\n\u001b[1;32m    268\u001b[0m \u001b[43m    \u001b[49m\u001b[43mpath\u001b[49m\u001b[43m,\u001b[49m\n\u001b[1;32m    269\u001b[0m \u001b[43m    \u001b[49m\u001b[43mfilesystem\u001b[49m\u001b[43m,\u001b[49m\n\u001b[1;32m    270\u001b[0m \u001b[43m    \u001b[49m\u001b[43mstorage_options\u001b[49m\u001b[38;5;241;43m=\u001b[39;49m\u001b[43mstorage_options\u001b[49m\u001b[43m,\u001b[49m\n\u001b[1;32m    271\u001b[0m \u001b[43m    \u001b[49m\u001b[43mmode\u001b[49m\u001b[38;5;241;43m=\u001b[39;49m\u001b[38;5;124;43m\"\u001b[39;49m\u001b[38;5;124;43mrb\u001b[39;49m\u001b[38;5;124;43m\"\u001b[39;49m\u001b[43m,\u001b[49m\n\u001b[1;32m    272\u001b[0m \u001b[43m\u001b[49m\u001b[43m)\u001b[49m\n\u001b[1;32m    273\u001b[0m \u001b[38;5;28;01mtry\u001b[39;00m:\n\u001b[1;32m    274\u001b[0m     pa_table \u001b[38;5;241m=\u001b[39m \u001b[38;5;28mself\u001b[39m\u001b[38;5;241m.\u001b[39mapi\u001b[38;5;241m.\u001b[39mparquet\u001b[38;5;241m.\u001b[39mread_table(\n\u001b[1;32m    275\u001b[0m         path_or_handle,\n\u001b[1;32m    276\u001b[0m         columns\u001b[38;5;241m=\u001b[39mcolumns,\n\u001b[0;32m   (...)\u001b[0m\n\u001b[1;32m    279\u001b[0m         \u001b[38;5;241m*\u001b[39m\u001b[38;5;241m*\u001b[39mkwargs,\n\u001b[1;32m    280\u001b[0m     )\n",
      "File \u001b[0;32m~/Library/Caches/pypoetry/virtualenvs/taxi-demand-predictor-A_2bi8Y3-py3.11/lib/python3.11/site-packages/pandas/io/parquet.py:140\u001b[0m, in \u001b[0;36m_get_path_or_handle\u001b[0;34m(path, fs, storage_options, mode, is_dir)\u001b[0m\n\u001b[1;32m    130\u001b[0m handles \u001b[38;5;241m=\u001b[39m \u001b[38;5;28;01mNone\u001b[39;00m\n\u001b[1;32m    131\u001b[0m \u001b[38;5;28;01mif\u001b[39;00m (\n\u001b[1;32m    132\u001b[0m     \u001b[38;5;129;01mnot\u001b[39;00m fs\n\u001b[1;32m    133\u001b[0m     \u001b[38;5;129;01mand\u001b[39;00m \u001b[38;5;129;01mnot\u001b[39;00m is_dir\n\u001b[0;32m   (...)\u001b[0m\n\u001b[1;32m    138\u001b[0m     \u001b[38;5;66;03m# fsspec resources can also point to directories\u001b[39;00m\n\u001b[1;32m    139\u001b[0m     \u001b[38;5;66;03m# this branch is used for example when reading from non-fsspec URLs\u001b[39;00m\n\u001b[0;32m--> 140\u001b[0m     handles \u001b[38;5;241m=\u001b[39m \u001b[43mget_handle\u001b[49m\u001b[43m(\u001b[49m\n\u001b[1;32m    141\u001b[0m \u001b[43m        \u001b[49m\u001b[43mpath_or_handle\u001b[49m\u001b[43m,\u001b[49m\u001b[43m \u001b[49m\u001b[43mmode\u001b[49m\u001b[43m,\u001b[49m\u001b[43m \u001b[49m\u001b[43mis_text\u001b[49m\u001b[38;5;241;43m=\u001b[39;49m\u001b[38;5;28;43;01mFalse\u001b[39;49;00m\u001b[43m,\u001b[49m\u001b[43m \u001b[49m\u001b[43mstorage_options\u001b[49m\u001b[38;5;241;43m=\u001b[39;49m\u001b[43mstorage_options\u001b[49m\n\u001b[1;32m    142\u001b[0m \u001b[43m    \u001b[49m\u001b[43m)\u001b[49m\n\u001b[1;32m    143\u001b[0m     fs \u001b[38;5;241m=\u001b[39m \u001b[38;5;28;01mNone\u001b[39;00m\n\u001b[1;32m    144\u001b[0m     path_or_handle \u001b[38;5;241m=\u001b[39m handles\u001b[38;5;241m.\u001b[39mhandle\n",
      "File \u001b[0;32m~/Library/Caches/pypoetry/virtualenvs/taxi-demand-predictor-A_2bi8Y3-py3.11/lib/python3.11/site-packages/pandas/io/common.py:882\u001b[0m, in \u001b[0;36mget_handle\u001b[0;34m(path_or_buf, mode, encoding, compression, memory_map, is_text, errors, storage_options)\u001b[0m\n\u001b[1;32m    873\u001b[0m         handle \u001b[38;5;241m=\u001b[39m \u001b[38;5;28mopen\u001b[39m(\n\u001b[1;32m    874\u001b[0m             handle,\n\u001b[1;32m    875\u001b[0m             ioargs\u001b[38;5;241m.\u001b[39mmode,\n\u001b[0;32m   (...)\u001b[0m\n\u001b[1;32m    878\u001b[0m             newline\u001b[38;5;241m=\u001b[39m\u001b[38;5;124m\"\u001b[39m\u001b[38;5;124m\"\u001b[39m,\n\u001b[1;32m    879\u001b[0m         )\n\u001b[1;32m    880\u001b[0m     \u001b[38;5;28;01melse\u001b[39;00m:\n\u001b[1;32m    881\u001b[0m         \u001b[38;5;66;03m# Binary mode\u001b[39;00m\n\u001b[0;32m--> 882\u001b[0m         handle \u001b[38;5;241m=\u001b[39m \u001b[38;5;28;43mopen\u001b[39;49m\u001b[43m(\u001b[49m\u001b[43mhandle\u001b[49m\u001b[43m,\u001b[49m\u001b[43m \u001b[49m\u001b[43mioargs\u001b[49m\u001b[38;5;241;43m.\u001b[39;49m\u001b[43mmode\u001b[49m\u001b[43m)\u001b[49m\n\u001b[1;32m    883\u001b[0m     handles\u001b[38;5;241m.\u001b[39mappend(handle)\n\u001b[1;32m    885\u001b[0m \u001b[38;5;66;03m# Convert BytesIO or file objects passed with an encoding\u001b[39;00m\n",
      "\u001b[0;31mFileNotFoundError\u001b[0m: [Errno 2] No such file or directory: '/Users/borja/Documents/Somniumrema/projects/ml/taxi_demand_predictor/data/raw/2024/yellow_tripdata_2024-01.parquet'"
     ]
    }
   ],
   "source": [
    "path = '/Users/borja/Documents/Somniumrema/projects/ml/taxi_demand_predictor/data/raw/2024/yellow_tripdata_2024-01.parquet'\n",
    "rides = validate_and_save_data(path, 2023, 1)\n",
    "rides.tail()"
   ]
  },
  {
   "cell_type": "code",
   "execution_count": null,
   "metadata": {},
   "outputs": [],
   "source": [
    "# Define the directory containing the raw data files\n",
    "raw_data_dir = '/Users/borja/Documents/Somniumrema/projects/ml/taxi_demand_predictor/data/raw/2023/'\n",
    "\n",
    "# Get a list of all .parquet files in the directory\n",
    "parquet_files = glob.glob(f\"{raw_data_dir}*.parquet\")\n",
    "\n",
    "# Regular expression to extract year and month from the filename\n",
    "pattern = re.compile(r'yellow_tripdata_(\\d{4})-(\\d{2})\\.parquet')\n",
    "\n",
    "# Process each file\n",
    "for path in parquet_files:\n",
    "    # Extract year and month from the file name using regex\n",
    "    filename = path.split('/')[-1]\n",
    "    match = pattern.match(filename)\n",
    "    if match:\n",
    "        year, month = map(int, match.groups())\n",
    "        \n",
    "        # Validate and save data\n",
    "        rides = validate_and_save_data(path, year, month)\n",
    "        \n",
    "        # Display the last few rows of the DataFrame\n",
    "        print(f\"File: {filename}\")\n",
    "        print(rides.tail())\n",
    "    else:\n",
    "        print(f\"Filename does not match expected pattern: {filename}\")"
   ]
  },
  {
   "cell_type": "code",
   "execution_count": null,
   "metadata": {},
   "outputs": [],
   "source": [
    "f = Path('/Users/borja/Documents/Somniumrema/projects/ml/taxi_demand_predictor/data/raw/2023')\n",
    "g = Path('/Users/borja/Documents/Somniumrema/projects/ml/taxi_demand_predictor/data/raw/2023')\n",
    "join_parquet_files(f,g, 'yellow_tripdata_2023.parquet')"
   ]
  },
  {
   "cell_type": "code",
   "execution_count": null,
   "metadata": {},
   "outputs": [],
   "source": [
    "\n",
    "a = transform_data(rides) \n",
    "a"
   ]
  },
  {
   "cell_type": "code",
   "execution_count": null,
   "metadata": {},
   "outputs": [],
   "source": [
    "b = add_missing_times(a, 'h')\n",
    "b"
   ]
  },
  {
   "cell_type": "code",
   "execution_count": null,
   "metadata": {},
   "outputs": [],
   "source": [
    "transform_save_data_into_ts_data(rides)"
   ]
  },
  {
   "cell_type": "code",
   "execution_count": null,
   "metadata": {},
   "outputs": [],
   "source": [
    "# Define the directory containing the raw data files\n",
    "raw_data_dir = '/Users/borja/Documents/Somniumrema/projects/ml/taxi_demand_predictor/data/bronze/2023/'\n",
    "\n",
    "# Get a list of all .parquet files in the directory\n",
    "parquet_files = glob.glob(f\"{raw_data_dir}*.parquet\")\n",
    "\n",
    "# Regular expression to extract year and month from the filename\n",
    "pattern = re.compile(r'validated_yellow_tripdata_(\\d{4})-(\\d{2})\\.parquet')\n",
    "\n",
    "# Process each file\n",
    "for path in parquet_files:\n",
    "    # Extract year and month from the file name using regex\n",
    "    filename = path.split('/')[-1]\n",
    "    match = pattern.match(filename)\n",
    "    if match:\n",
    "        year, month = map(int, match.groups())\n",
    "        \n",
    "        # Load the data into a DataFrame\n",
    "        rides = pd.read_parquet(path)\n",
    "        \n",
    "        # Transform and save data into time series data\n",
    "        ts_data = transform_save_data_into_ts_data(rides)\n",
    "        \n",
    "        # Display the last few rows of the transformed DataFrame\n",
    "        print(f\"File: {filename}\")\n",
    "        print(ts_data.tail())\n",
    "    else:\n",
    "        print(f\"Filename does not match expected pattern: {filename}\")"
   ]
  },
  {
   "cell_type": "code",
   "execution_count": null,
   "metadata": {},
   "outputs": [],
   "source": [
    "f1 = Path('/Users/borja/Documents/Somniumrema/projects/ml/taxi_demand_predictor/data/bronze/2023')\n",
    "g1 = Path('/Users/borja/Documents/Somniumrema/projects/ml/taxi_demand_predictor/data/bronze/2023')\n",
    "join_parquet_files(f1,g1, 'validated_yellow_tripdata_2023.parquet')"
   ]
  },
  {
   "cell_type": "code",
   "execution_count": null,
   "metadata": {},
   "outputs": [],
   "source": [
    "f = Path('/Users/borja/Documents/Somniumrema/projects/ml/taxi_demand_predictor/data/silver/2023')\n",
    "g = Path('/Users/borja/Documents/Somniumrema/projects/ml/taxi_demand_predictor/data/silver/2023')\n",
    "join_parquet_files(f,g, 'ts_data_2023.parquet')"
   ]
  },
  {
   "cell_type": "code",
   "execution_count": null,
   "metadata": {},
   "outputs": [],
   "source": [
    "from data import slice_and_slide\n",
    "j = transform_save_data_into_ts_data(rides)\n",
    "slice_and_slide(j, start_position = 0, n_features = 24*7, step_size = 1, target_col= 'ride_count')\n"
   ]
  },
  {
   "cell_type": "code",
   "execution_count": 15,
   "metadata": {},
   "outputs": [
    {
     "name": "stdout",
     "output_type": "stream",
     "text": [
      "Shape of X: (7, 504)\n",
      "Shape of y: (7, 1)\n"
     ]
    },
    {
     "name": "stderr",
     "output_type": "stream",
     "text": [
      "Saving data: 100%|\u001b[32m██████████\u001b[0m| 7/7 [00:00<00:00, 60.69rows/s]"
     ]
    },
    {
     "name": "stdout",
     "output_type": "stream",
     "text": [
      "Data saved to \"/Users/borja/Documents/Somniumrema/projects/ml/taxi_demand_predictor/data/gold/model_dataset_location_43_2023-2.parquet\"\n"
     ]
    },
    {
     "name": "stderr",
     "output_type": "stream",
     "text": [
      "\n"
     ]
    }
   ],
   "source": [
    "e = pd.read_parquet(\"/Users/borja/Documents/Somniumrema/projects/ml/taxi_demand_predictor/data/silver/2023/ts_data_2023-02.parquet\")\n",
    "f = generate_training_set(e, start_position = 0, n_features = 24*7*3*1, step_size = 24, pickup_location_id=43, target_col='ride_count')\n"
   ]
  },
  {
   "cell_type": "code",
   "execution_count": 8,
   "metadata": {},
   "outputs": [
    {
     "data": {
      "text/html": [
       "<div>\n",
       "<style scoped>\n",
       "    .dataframe tbody tr th:only-of-type {\n",
       "        vertical-align: middle;\n",
       "    }\n",
       "\n",
       "    .dataframe tbody tr th {\n",
       "        vertical-align: top;\n",
       "    }\n",
       "\n",
       "    .dataframe thead th {\n",
       "        text-align: right;\n",
       "    }\n",
       "</style>\n",
       "<table border=\"1\" class=\"dataframe\">\n",
       "  <thead>\n",
       "    <tr style=\"text-align: right;\">\n",
       "      <th></th>\n",
       "      <th>pickup_time</th>\n",
       "      <th>pickup_location_id</th>\n",
       "      <th>ride_count</th>\n",
       "    </tr>\n",
       "  </thead>\n",
       "  <tbody>\n",
       "    <tr>\n",
       "      <th>194179</th>\n",
       "      <td>2023-03-31 23:00:00</td>\n",
       "      <td>27</td>\n",
       "      <td>0.0</td>\n",
       "    </tr>\n",
       "    <tr>\n",
       "      <th>194180</th>\n",
       "      <td>2023-03-31 23:00:00</td>\n",
       "      <td>199</td>\n",
       "      <td>0.0</td>\n",
       "    </tr>\n",
       "    <tr>\n",
       "      <th>194181</th>\n",
       "      <td>2023-03-31 23:00:00</td>\n",
       "      <td>206</td>\n",
       "      <td>0.0</td>\n",
       "    </tr>\n",
       "    <tr>\n",
       "      <th>194182</th>\n",
       "      <td>2023-03-31 23:00:00</td>\n",
       "      <td>30</td>\n",
       "      <td>0.0</td>\n",
       "    </tr>\n",
       "    <tr>\n",
       "      <th>194183</th>\n",
       "      <td>2023-03-31 23:00:00</td>\n",
       "      <td>109</td>\n",
       "      <td>2.0</td>\n",
       "    </tr>\n",
       "  </tbody>\n",
       "</table>\n",
       "</div>"
      ],
      "text/plain": [
       "               pickup_time  pickup_location_id  ride_count\n",
       "194179 2023-03-31 23:00:00                  27         0.0\n",
       "194180 2023-03-31 23:00:00                 199         0.0\n",
       "194181 2023-03-31 23:00:00                 206         0.0\n",
       "194182 2023-03-31 23:00:00                  30         0.0\n",
       "194183 2023-03-31 23:00:00                 109         2.0"
      ]
     },
     "execution_count": 8,
     "metadata": {},
     "output_type": "execute_result"
    }
   ],
   "source": [
    "pd.read_parquet('/Users/borja/Documents/Somniumrema/projects/ml/taxi_demand_predictor/data/silver/2023/ts_data_2023-03.parquet').tail()"
   ]
  },
  {
   "cell_type": "code",
   "execution_count": 10,
   "metadata": {},
   "outputs": [
    {
     "name": "stderr",
     "output_type": "stream",
     "text": [
      "2024-08-01 14:12:52,543 - INFO - Folder \"data\" ensured at \"/Users/borja/Documents/Somniumrema/projects/ml/taxi_demand_predictor/data\"\n",
      "2024-08-01 14:12:52,544 - INFO - Folder \"raw\" ensured at \"/Users/borja/Documents/Somniumrema/projects/ml/taxi_demand_predictor/data/raw\"\n",
      "2024-08-01 14:12:52,545 - INFO - Folder \"processed\" ensured at \"/Users/borja/Documents/Somniumrema/projects/ml/taxi_demand_predictor/data/bronze\"\n",
      "2024-08-01 14:12:52,545 - INFO - Folder \"transformed\" ensured at \"/Users/borja/Documents/Somniumrema/projects/ml/taxi_demand_predictor/data/silver\"\n",
      "2024-08-01 14:12:52,545 - INFO - Folder \"transformed\" ensured at \"/Users/borja/Documents/Somniumrema/projects/ml/taxi_demand_predictor/data/gold\"\n"
     ]
    },
    {
     "name": "stdout",
     "output_type": "stream",
     "text": [
      "Folder \"/Users/borja/Documents/Somniumrema/projects/ml/taxi_demand_predictor/data/gold/2023\" created\n"
     ]
    },
    {
     "name": "stderr",
     "output_type": "stream",
     "text": [
      "Saving data: 100%|\u001b[32m██████████\u001b[0m| 516/516 [00:00<00:00, 9689.22rows/s]"
     ]
    },
    {
     "name": "stdout",
     "output_type": "stream",
     "text": [
      "Data saved to \"/Users/borja/Documents/Somniumrema/projects/ml/taxi_demand_predictor/data/gold/2023/model_dataset_all_locations_2023-6.parquet\"\n"
     ]
    },
    {
     "name": "stderr",
     "output_type": "stream",
     "text": [
      "\n",
      "Saving data: 100%|\u001b[32m██████████\u001b[0m| 765/765 [00:00<00:00, 13721.53rows/s]\n"
     ]
    },
    {
     "name": "stdout",
     "output_type": "stream",
     "text": [
      "Data saved to \"/Users/borja/Documents/Somniumrema/projects/ml/taxi_demand_predictor/data/gold/2023/model_dataset_all_locations_2023-7.parquet\"\n"
     ]
    },
    {
     "name": "stderr",
     "output_type": "stream",
     "text": [
      "Saving data: 100%|\u001b[32m██████████\u001b[0m| 783/783 [00:00<00:00, 13627.65rows/s]\n"
     ]
    },
    {
     "name": "stdout",
     "output_type": "stream",
     "text": [
      "Data saved to \"/Users/borja/Documents/Somniumrema/projects/ml/taxi_demand_predictor/data/gold/2023/model_dataset_all_locations_2023-5.parquet\"\n"
     ]
    },
    {
     "name": "stderr",
     "output_type": "stream",
     "text": [
      "Saving data: 100%|\u001b[32m██████████\u001b[0m| 516/516 [00:00<00:00, 9869.58rows/s]\n"
     ]
    },
    {
     "name": "stdout",
     "output_type": "stream",
     "text": [
      "Data saved to \"/Users/borja/Documents/Somniumrema/projects/ml/taxi_demand_predictor/data/gold/2023/model_dataset_all_locations_2023-4.parquet\"\n"
     ]
    },
    {
     "name": "stderr",
     "output_type": "stream",
     "text": [
      "Saving data: 100%|\u001b[32m██████████\u001b[0m| 777/777 [00:00<00:00, 5755.19rows/s]\n"
     ]
    },
    {
     "name": "stdout",
     "output_type": "stream",
     "text": [
      "Data saved to \"/Users/borja/Documents/Somniumrema/projects/ml/taxi_demand_predictor/data/gold/2023/model_dataset_all_locations_2023-8.parquet\"\n"
     ]
    },
    {
     "name": "stderr",
     "output_type": "stream",
     "text": [
      "Saving data: 100%|\u001b[32m██████████\u001b[0m| 516/516 [00:00<00:00, 10015.51rows/s]\n"
     ]
    },
    {
     "name": "stdout",
     "output_type": "stream",
     "text": [
      "Data saved to \"/Users/borja/Documents/Somniumrema/projects/ml/taxi_demand_predictor/data/gold/2023/model_dataset_all_locations_2023-11.parquet\"\n"
     ]
    },
    {
     "name": "stderr",
     "output_type": "stream",
     "text": [
      "Saving data: 100%|\u001b[32m██████████\u001b[0m| 771/771 [00:00<00:00, 5663.70rows/s]\n"
     ]
    },
    {
     "name": "stdout",
     "output_type": "stream",
     "text": [
      "Data saved to \"/Users/borja/Documents/Somniumrema/projects/ml/taxi_demand_predictor/data/gold/2023/model_dataset_all_locations_2023-1.parquet\"\n"
     ]
    },
    {
     "name": "stderr",
     "output_type": "stream",
     "text": [
      "Saving data: 100%|\u001b[32m██████████\u001b[0m| 768/768 [00:00<00:00, 12874.65rows/s]\n"
     ]
    },
    {
     "name": "stdout",
     "output_type": "stream",
     "text": [
      "Data saved to \"/Users/borja/Documents/Somniumrema/projects/ml/taxi_demand_predictor/data/gold/2023/model_dataset_all_locations_2023-10.parquet\"\n"
     ]
    },
    {
     "name": "stderr",
     "output_type": "stream",
     "text": [
      "Saving data: 100%|\u001b[32m██████████\u001b[0m| 516/516 [00:00<00:00, 9646.81rows/s]\n"
     ]
    },
    {
     "name": "stdout",
     "output_type": "stream",
     "text": [
      "Data saved to \"/Users/borja/Documents/Somniumrema/projects/ml/taxi_demand_predictor/data/gold/2023/model_dataset_all_locations_2023-9.parquet\"\n"
     ]
    },
    {
     "name": "stderr",
     "output_type": "stream",
     "text": [
      "Saving data: 100%|\u001b[32m██████████\u001b[0m| 777/777 [00:00<00:00, 14138.84rows/s]\n"
     ]
    },
    {
     "name": "stdout",
     "output_type": "stream",
     "text": [
      "Data saved to \"/Users/borja/Documents/Somniumrema/projects/ml/taxi_demand_predictor/data/gold/2023/model_dataset_all_locations_2023-12.parquet\"\n",
      "The number of features and step size are too big for 2023-2\n",
      "Skipping file for 2023-2 due to insufficient data for all locations.\n",
      "Skipping file ts_data_2023-02.parquet due to insufficient data.\n"
     ]
    },
    {
     "name": "stderr",
     "output_type": "stream",
     "text": [
      "Saving data: 100%|\u001b[32m██████████\u001b[0m| 783/783 [00:00<00:00, 11536.94rows/s]"
     ]
    },
    {
     "name": "stdout",
     "output_type": "stream",
     "text": [
      "Data saved to \"/Users/borja/Documents/Somniumrema/projects/ml/taxi_demand_predictor/data/gold/2023/model_dataset_all_locations_2023-3.parquet\"\n"
     ]
    },
    {
     "name": "stderr",
     "output_type": "stream",
     "text": [
      "\n"
     ]
    }
   ],
   "source": [
    "# Define the directory containing the raw data files\n",
    "raw_data_dir = '/Users/borja/Documents/Somniumrema/projects/ml/taxi_demand_predictor/data/silver/2023/'\n",
    "\n",
    "# Get a list of all .parquet files in the directory\n",
    "parquet_files = glob.glob(f\"{raw_data_dir}*.parquet\")\n",
    "\n",
    "# Regular expression to extract year and month from the filename\n",
    "pattern = re.compile(r'ts_data_(\\d{4})-(\\d{2})\\.parquet')\n",
    "\n",
    "# Process each file\n",
    "for path in parquet_files:\n",
    "    # Extract year and month from the file name using regex\n",
    "    filename = path.split('/')[-1]\n",
    "    match = pattern.match(filename)\n",
    "    if match:\n",
    "        year, month = map(int, match.groups())\n",
    "        \n",
    "        # Load the data into a DataFrame\n",
    "        rides = pd.read_parquet(path)\n",
    "        \n",
    "        # Generate the training set\n",
    "        training_set = generate_training_set(rides, start_position=0, n_features=24*7*4*1, step_size=24, target_col='ride_count')\n",
    "        \n",
    "        # Check if the training set was successfully generated\n",
    "        if training_set is not None:\n",
    "            # Continue processing the training_set\n",
    "            # (Add your processing code here)\n",
    "            pass\n",
    "        else:\n",
    "            print(f\"Skipping file {filename} due to insufficient data.\")"
   ]
  },
  {
   "cell_type": "code",
   "execution_count": 11,
   "metadata": {},
   "outputs": [
    {
     "name": "stderr",
     "output_type": "stream",
     "text": [
      "Reading parquet files:   0%|\u001b[32m          \u001b[0m| 0/11 [00:00<?, ?it/s]"
     ]
    },
    {
     "name": "stderr",
     "output_type": "stream",
     "text": [
      "Reading parquet files: 100%|\u001b[32m██████████\u001b[0m| 11/11 [00:00<00:00, 27.14it/s]\n",
      "2024-08-01 14:13:13,265 - INFO - Combined parquet file saved to /Users/borja/Documents/Somniumrema/projects/ml/taxi_demand_predictor/data/gold/2023/model_data_2023.parquet\n"
     ]
    }
   ],
   "source": [
    "f = Path('/Users/borja/Documents/Somniumrema/projects/ml/taxi_demand_predictor/data/gold/2023/')\n",
    "g = Path('/Users/borja/Documents/Somniumrema/projects/ml/taxi_demand_predictor/data/gold/2023/')\n",
    "join_parquet_files(f,g, 'model_data_2023.parquet')"
   ]
  },
  {
   "cell_type": "code",
   "execution_count": null,
   "metadata": {},
   "outputs": [],
   "source": [
    "\n",
    "signature = inspect.signature(validate_and_save_data)\n",
    "parameters = signature.parameters\n",
    "# Print the parameters using a list comprehension\n",
    "parameters_list = [f\"Parameter: {param_name}, Default: {param.default}\" for param_name, param in parameters.items()]\n",
    "print(parameters_list)"
   ]
  }
 ],
 "metadata": {
  "kernelspec": {
   "display_name": "taxi-demand-predictor-A_2bi8Y3-py3.11",
   "language": "python",
   "name": "python3"
  },
  "language_info": {
   "codemirror_mode": {
    "name": "ipython",
    "version": 3
   },
   "file_extension": ".py",
   "mimetype": "text/x-python",
   "name": "python",
   "nbconvert_exporter": "python",
   "pygments_lexer": "ipython3",
   "version": "3.11.9"
  }
 },
 "nbformat": 4,
 "nbformat_minor": 2
}
