{
 "cells": [
  {
   "cell_type": "code",
   "execution_count": 19,
   "metadata": {},
   "outputs": [],
   "source": [
    "import os\n",
    "from datetime import datetime, timedelta\n",
    "import config as cfg\n",
    "import logging\n",
    "import pandas as pd\n",
    "from typing import List\n",
    "from data import save_data\n",
    "from pipeline import retrieve_data_in_range, validate_and_save_data, transform_to_ts_data\n",
    "import hopsworks\n",
    "import config as config"
   ]
  },
  {
   "cell_type": "code",
   "execution_count": 20,
   "metadata": {},
   "outputs": [
    {
     "data": {
      "text/plain": [
       "(Timestamp('2023-05-27 22:00:00'), Timestamp('2024-05-25 22:00:00'))"
      ]
     },
     "execution_count": 20,
     "metadata": {},
     "output_type": "execute_result"
    }
   ],
   "source": [
    "# Fetch data from the API for the last 28 days\n",
    "current_date = pd.to_datetime(datetime.utcnow()).floor('H')\n",
    "end = current_date - timedelta(days=7*10)\n",
    "start = end - timedelta(days=7*52)\n",
    "\n",
    "# Define the base URL for the API\n",
    "base_url = \"https://d37ci6vzurychx.cloudfront.net/trip-data/\"\n",
    "\n",
    "start, end"
   ]
  },
  {
   "cell_type": "code",
   "execution_count": 21,
   "metadata": {},
   "outputs": [],
   "source": [
    "# STREAM_DATA_DIR_RAW = RAW_DATA_DIR / \"2023-2024\"\n",
    "# STREAM_DATA_DIR_BRONZE = BRONZE_DATA_DIR / \"2023-2024\"\n",
    "# STREAM_DATA_DIR_SILVER = SILVER_DATA_DIR / \"2023-2024\"\n",
    "# STREAM_DATA_DIR_GOLD = GOLD_DATA_DIR / \"2023-2024\"\n",
    "# INPUT_RAW_DIR = RAW_DATA_DIR / \"2023-2024\"/f'yellow_tripdata_{start.year}-{start.month:02d}_to_{end.year}-{end.month:02d}.parquet'\n",
    "# INPUT_SILVER_DIR = STREAM_DATA_DIR_SILVER /f'ts_data_{start.year}-{start.month:02d}_to_{end.year}-{end.month:02d}.parquet'"
   ]
  },
  {
   "cell_type": "code",
   "execution_count": 22,
   "metadata": {},
   "outputs": [
    {
     "data": {
      "text/html": [
       "<div>\n",
       "<style scoped>\n",
       "    .dataframe tbody tr th:only-of-type {\n",
       "        vertical-align: middle;\n",
       "    }\n",
       "\n",
       "    .dataframe tbody tr th {\n",
       "        vertical-align: top;\n",
       "    }\n",
       "\n",
       "    .dataframe thead th {\n",
       "        text-align: right;\n",
       "    }\n",
       "</style>\n",
       "<table border=\"1\" class=\"dataframe\">\n",
       "  <thead>\n",
       "    <tr style=\"text-align: right;\">\n",
       "      <th></th>\n",
       "      <th>VendorID</th>\n",
       "      <th>tpep_pickup_datetime</th>\n",
       "      <th>tpep_dropoff_datetime</th>\n",
       "      <th>passenger_count</th>\n",
       "      <th>trip_distance</th>\n",
       "      <th>RatecodeID</th>\n",
       "      <th>store_and_fwd_flag</th>\n",
       "      <th>PULocationID</th>\n",
       "      <th>DOLocationID</th>\n",
       "      <th>payment_type</th>\n",
       "      <th>fare_amount</th>\n",
       "      <th>extra</th>\n",
       "      <th>mta_tax</th>\n",
       "      <th>tip_amount</th>\n",
       "      <th>tolls_amount</th>\n",
       "      <th>improvement_surcharge</th>\n",
       "      <th>total_amount</th>\n",
       "      <th>congestion_surcharge</th>\n",
       "      <th>Airport_fee</th>\n",
       "    </tr>\n",
       "  </thead>\n",
       "  <tbody>\n",
       "    <tr>\n",
       "      <th>0</th>\n",
       "      <td>1</td>\n",
       "      <td>2023-06-01 00:08:48</td>\n",
       "      <td>2023-06-01 00:29:41</td>\n",
       "      <td>1.0</td>\n",
       "      <td>3.40</td>\n",
       "      <td>1.0</td>\n",
       "      <td>N</td>\n",
       "      <td>140</td>\n",
       "      <td>238</td>\n",
       "      <td>1</td>\n",
       "      <td>21.90</td>\n",
       "      <td>3.50</td>\n",
       "      <td>0.5</td>\n",
       "      <td>6.70</td>\n",
       "      <td>0.0</td>\n",
       "      <td>1.0</td>\n",
       "      <td>33.60</td>\n",
       "      <td>2.5</td>\n",
       "      <td>0.00</td>\n",
       "    </tr>\n",
       "    <tr>\n",
       "      <th>1</th>\n",
       "      <td>1</td>\n",
       "      <td>2023-06-01 00:15:04</td>\n",
       "      <td>2023-06-01 00:25:18</td>\n",
       "      <td>0.0</td>\n",
       "      <td>3.40</td>\n",
       "      <td>1.0</td>\n",
       "      <td>N</td>\n",
       "      <td>50</td>\n",
       "      <td>151</td>\n",
       "      <td>1</td>\n",
       "      <td>15.60</td>\n",
       "      <td>3.50</td>\n",
       "      <td>0.5</td>\n",
       "      <td>3.00</td>\n",
       "      <td>0.0</td>\n",
       "      <td>1.0</td>\n",
       "      <td>23.60</td>\n",
       "      <td>2.5</td>\n",
       "      <td>0.00</td>\n",
       "    </tr>\n",
       "    <tr>\n",
       "      <th>2</th>\n",
       "      <td>1</td>\n",
       "      <td>2023-06-01 00:48:24</td>\n",
       "      <td>2023-06-01 01:07:07</td>\n",
       "      <td>1.0</td>\n",
       "      <td>10.20</td>\n",
       "      <td>1.0</td>\n",
       "      <td>N</td>\n",
       "      <td>138</td>\n",
       "      <td>97</td>\n",
       "      <td>1</td>\n",
       "      <td>40.80</td>\n",
       "      <td>7.75</td>\n",
       "      <td>0.5</td>\n",
       "      <td>10.00</td>\n",
       "      <td>0.0</td>\n",
       "      <td>1.0</td>\n",
       "      <td>60.05</td>\n",
       "      <td>0.0</td>\n",
       "      <td>1.75</td>\n",
       "    </tr>\n",
       "    <tr>\n",
       "      <th>3</th>\n",
       "      <td>2</td>\n",
       "      <td>2023-06-01 00:54:03</td>\n",
       "      <td>2023-06-01 01:17:29</td>\n",
       "      <td>3.0</td>\n",
       "      <td>9.83</td>\n",
       "      <td>1.0</td>\n",
       "      <td>N</td>\n",
       "      <td>100</td>\n",
       "      <td>244</td>\n",
       "      <td>1</td>\n",
       "      <td>39.40</td>\n",
       "      <td>1.00</td>\n",
       "      <td>0.5</td>\n",
       "      <td>8.88</td>\n",
       "      <td>0.0</td>\n",
       "      <td>1.0</td>\n",
       "      <td>53.28</td>\n",
       "      <td>2.5</td>\n",
       "      <td>0.00</td>\n",
       "    </tr>\n",
       "    <tr>\n",
       "      <th>4</th>\n",
       "      <td>2</td>\n",
       "      <td>2023-06-01 00:18:44</td>\n",
       "      <td>2023-06-01 00:27:18</td>\n",
       "      <td>1.0</td>\n",
       "      <td>1.17</td>\n",
       "      <td>1.0</td>\n",
       "      <td>N</td>\n",
       "      <td>137</td>\n",
       "      <td>234</td>\n",
       "      <td>1</td>\n",
       "      <td>9.30</td>\n",
       "      <td>1.00</td>\n",
       "      <td>0.5</td>\n",
       "      <td>0.72</td>\n",
       "      <td>0.0</td>\n",
       "      <td>1.0</td>\n",
       "      <td>15.02</td>\n",
       "      <td>2.5</td>\n",
       "      <td>0.00</td>\n",
       "    </tr>\n",
       "    <tr>\n",
       "      <th>...</th>\n",
       "      <td>...</td>\n",
       "      <td>...</td>\n",
       "      <td>...</td>\n",
       "      <td>...</td>\n",
       "      <td>...</td>\n",
       "      <td>...</td>\n",
       "      <td>...</td>\n",
       "      <td>...</td>\n",
       "      <td>...</td>\n",
       "      <td>...</td>\n",
       "      <td>...</td>\n",
       "      <td>...</td>\n",
       "      <td>...</td>\n",
       "      <td>...</td>\n",
       "      <td>...</td>\n",
       "      <td>...</td>\n",
       "      <td>...</td>\n",
       "      <td>...</td>\n",
       "      <td>...</td>\n",
       "    </tr>\n",
       "    <tr>\n",
       "      <th>38916735</th>\n",
       "      <td>2</td>\n",
       "      <td>2024-05-31 23:45:00</td>\n",
       "      <td>2024-06-01 00:09:00</td>\n",
       "      <td>NaN</td>\n",
       "      <td>4.07</td>\n",
       "      <td>NaN</td>\n",
       "      <td>None</td>\n",
       "      <td>88</td>\n",
       "      <td>186</td>\n",
       "      <td>0</td>\n",
       "      <td>29.93</td>\n",
       "      <td>0.00</td>\n",
       "      <td>0.5</td>\n",
       "      <td>0.00</td>\n",
       "      <td>0.0</td>\n",
       "      <td>1.0</td>\n",
       "      <td>33.93</td>\n",
       "      <td>NaN</td>\n",
       "      <td>NaN</td>\n",
       "    </tr>\n",
       "    <tr>\n",
       "      <th>38916736</th>\n",
       "      <td>2</td>\n",
       "      <td>2024-05-31 23:10:52</td>\n",
       "      <td>2024-05-31 23:38:05</td>\n",
       "      <td>NaN</td>\n",
       "      <td>4.81</td>\n",
       "      <td>NaN</td>\n",
       "      <td>None</td>\n",
       "      <td>231</td>\n",
       "      <td>143</td>\n",
       "      <td>0</td>\n",
       "      <td>30.71</td>\n",
       "      <td>0.00</td>\n",
       "      <td>0.5</td>\n",
       "      <td>0.00</td>\n",
       "      <td>0.0</td>\n",
       "      <td>1.0</td>\n",
       "      <td>34.71</td>\n",
       "      <td>NaN</td>\n",
       "      <td>NaN</td>\n",
       "    </tr>\n",
       "    <tr>\n",
       "      <th>38916737</th>\n",
       "      <td>2</td>\n",
       "      <td>2024-05-31 23:23:57</td>\n",
       "      <td>2024-05-31 23:38:35</td>\n",
       "      <td>NaN</td>\n",
       "      <td>2.03</td>\n",
       "      <td>NaN</td>\n",
       "      <td>None</td>\n",
       "      <td>142</td>\n",
       "      <td>140</td>\n",
       "      <td>0</td>\n",
       "      <td>17.15</td>\n",
       "      <td>0.00</td>\n",
       "      <td>0.5</td>\n",
       "      <td>4.23</td>\n",
       "      <td>0.0</td>\n",
       "      <td>1.0</td>\n",
       "      <td>25.38</td>\n",
       "      <td>NaN</td>\n",
       "      <td>NaN</td>\n",
       "    </tr>\n",
       "    <tr>\n",
       "      <th>38916738</th>\n",
       "      <td>2</td>\n",
       "      <td>2024-05-31 23:44:12</td>\n",
       "      <td>2024-05-31 23:47:44</td>\n",
       "      <td>NaN</td>\n",
       "      <td>0.94</td>\n",
       "      <td>NaN</td>\n",
       "      <td>None</td>\n",
       "      <td>141</td>\n",
       "      <td>263</td>\n",
       "      <td>0</td>\n",
       "      <td>-1.00</td>\n",
       "      <td>0.00</td>\n",
       "      <td>0.5</td>\n",
       "      <td>0.00</td>\n",
       "      <td>0.0</td>\n",
       "      <td>1.0</td>\n",
       "      <td>3.00</td>\n",
       "      <td>NaN</td>\n",
       "      <td>NaN</td>\n",
       "    </tr>\n",
       "    <tr>\n",
       "      <th>38916739</th>\n",
       "      <td>2</td>\n",
       "      <td>2024-05-31 23:11:10</td>\n",
       "      <td>2024-05-31 23:38:27</td>\n",
       "      <td>NaN</td>\n",
       "      <td>9.25</td>\n",
       "      <td>NaN</td>\n",
       "      <td>None</td>\n",
       "      <td>232</td>\n",
       "      <td>42</td>\n",
       "      <td>0</td>\n",
       "      <td>33.65</td>\n",
       "      <td>0.00</td>\n",
       "      <td>0.5</td>\n",
       "      <td>0.00</td>\n",
       "      <td>0.0</td>\n",
       "      <td>1.0</td>\n",
       "      <td>37.65</td>\n",
       "      <td>NaN</td>\n",
       "      <td>NaN</td>\n",
       "    </tr>\n",
       "  </tbody>\n",
       "</table>\n",
       "<p>38916740 rows × 19 columns</p>\n",
       "</div>"
      ],
      "text/plain": [
       "          VendorID tpep_pickup_datetime tpep_dropoff_datetime  \\\n",
       "0                1  2023-06-01 00:08:48   2023-06-01 00:29:41   \n",
       "1                1  2023-06-01 00:15:04   2023-06-01 00:25:18   \n",
       "2                1  2023-06-01 00:48:24   2023-06-01 01:07:07   \n",
       "3                2  2023-06-01 00:54:03   2023-06-01 01:17:29   \n",
       "4                2  2023-06-01 00:18:44   2023-06-01 00:27:18   \n",
       "...            ...                  ...                   ...   \n",
       "38916735         2  2024-05-31 23:45:00   2024-06-01 00:09:00   \n",
       "38916736         2  2024-05-31 23:10:52   2024-05-31 23:38:05   \n",
       "38916737         2  2024-05-31 23:23:57   2024-05-31 23:38:35   \n",
       "38916738         2  2024-05-31 23:44:12   2024-05-31 23:47:44   \n",
       "38916739         2  2024-05-31 23:11:10   2024-05-31 23:38:27   \n",
       "\n",
       "          passenger_count  trip_distance  RatecodeID store_and_fwd_flag  \\\n",
       "0                     1.0           3.40         1.0                  N   \n",
       "1                     0.0           3.40         1.0                  N   \n",
       "2                     1.0          10.20         1.0                  N   \n",
       "3                     3.0           9.83         1.0                  N   \n",
       "4                     1.0           1.17         1.0                  N   \n",
       "...                   ...            ...         ...                ...   \n",
       "38916735              NaN           4.07         NaN               None   \n",
       "38916736              NaN           4.81         NaN               None   \n",
       "38916737              NaN           2.03         NaN               None   \n",
       "38916738              NaN           0.94         NaN               None   \n",
       "38916739              NaN           9.25         NaN               None   \n",
       "\n",
       "          PULocationID  DOLocationID  payment_type  fare_amount  extra  \\\n",
       "0                  140           238             1        21.90   3.50   \n",
       "1                   50           151             1        15.60   3.50   \n",
       "2                  138            97             1        40.80   7.75   \n",
       "3                  100           244             1        39.40   1.00   \n",
       "4                  137           234             1         9.30   1.00   \n",
       "...                ...           ...           ...          ...    ...   \n",
       "38916735            88           186             0        29.93   0.00   \n",
       "38916736           231           143             0        30.71   0.00   \n",
       "38916737           142           140             0        17.15   0.00   \n",
       "38916738           141           263             0        -1.00   0.00   \n",
       "38916739           232            42             0        33.65   0.00   \n",
       "\n",
       "          mta_tax  tip_amount  tolls_amount  improvement_surcharge  \\\n",
       "0             0.5        6.70           0.0                    1.0   \n",
       "1             0.5        3.00           0.0                    1.0   \n",
       "2             0.5       10.00           0.0                    1.0   \n",
       "3             0.5        8.88           0.0                    1.0   \n",
       "4             0.5        0.72           0.0                    1.0   \n",
       "...           ...         ...           ...                    ...   \n",
       "38916735      0.5        0.00           0.0                    1.0   \n",
       "38916736      0.5        0.00           0.0                    1.0   \n",
       "38916737      0.5        4.23           0.0                    1.0   \n",
       "38916738      0.5        0.00           0.0                    1.0   \n",
       "38916739      0.5        0.00           0.0                    1.0   \n",
       "\n",
       "          total_amount  congestion_surcharge  Airport_fee  \n",
       "0                33.60                   2.5         0.00  \n",
       "1                23.60                   2.5         0.00  \n",
       "2                60.05                   0.0         1.75  \n",
       "3                53.28                   2.5         0.00  \n",
       "4                15.02                   2.5         0.00  \n",
       "...                ...                   ...          ...  \n",
       "38916735         33.93                   NaN          NaN  \n",
       "38916736         34.71                   NaN          NaN  \n",
       "38916737         25.38                   NaN          NaN  \n",
       "38916738          3.00                   NaN          NaN  \n",
       "38916739         37.65                   NaN          NaN  \n",
       "\n",
       "[38916740 rows x 19 columns]"
      ]
     },
     "execution_count": 22,
     "metadata": {},
     "output_type": "execute_result"
    }
   ],
   "source": [
    "# Example usage\n",
    "base_path = \"/Users/borja/Documents/Somniumrema/projects/ml/taxi_demand_predictor/data/raw\"\n",
    "\n",
    "df = retrieve_data_in_range(start, end, RAW_DATA_DIR)\n",
    "df"
   ]
  },
  {
   "cell_type": "code",
   "execution_count": 23,
   "metadata": {},
   "outputs": [
    {
     "name": "stderr",
     "output_type": "stream",
     "text": [
      "Saving data: 100%|\u001b[32m██████████\u001b[0m| 38916740/38916740 [00:10<00:00, 3661779.05rows/s]"
     ]
    },
    {
     "name": "stdout",
     "output_type": "stream",
     "text": [
      "Data saved to \"/Users/borja/Documents/Somniumrema/projects/ml/taxi_demand_predictor/data/raw/2023-2024/yellow_tripdata_2023-05_to_2024-05.parquet\"\n"
     ]
    },
    {
     "name": "stderr",
     "output_type": "stream",
     "text": [
      "\n"
     ]
    }
   ],
   "source": [
    "save_data(df, STREAM_DATA_DIR_RAW, f'yellow_tripdata_{start.year}-{start.month:02d}_to_{end.year}-{end.month:02d}.parquet')"
   ]
  },
  {
   "cell_type": "code",
   "execution_count": 24,
   "metadata": {},
   "outputs": [
    {
     "name": "stderr",
     "output_type": "stream",
     "text": [
      "Saving data: 100%|\u001b[32m██████████\u001b[0m| 37298630/37298630 [00:02<00:00, 13867115.40rows/s]"
     ]
    },
    {
     "name": "stdout",
     "output_type": "stream",
     "text": [
      "Data saved to \"/Users/borja/Documents/Somniumrema/projects/ml/taxi_demand_predictor/data/bronze/2023-2024/validated_yellow_tripdata_2023-05_to_2024-05.parquet\"\n"
     ]
    },
    {
     "name": "stderr",
     "output_type": "stream",
     "text": [
      "\n"
     ]
    }
   ],
   "source": [
    "validated = validate_and_save_data(STREAM_DATA_DIR_RAW, start, end)\n",
    "\n",
    "save_data(validated, STREAM_DATA_DIR_BRONZE, f'validated_yellow_tripdata_{start.year}-{start.month:02d}_to_{end.year}-{end.month:02d}.parquet')"
   ]
  },
  {
   "cell_type": "code",
   "execution_count": 25,
   "metadata": {},
   "outputs": [],
   "source": [
    "validated = pd.read_parquet(f'{STREAM_DATA_DIR_BRONZE}/validated_yellow_tripdata_{start.year}-{start.month:02d}_to_{end.year}-{end.month:02d}.parquet')\n",
    "\n",
    "transformed = transform_to_ts_data(validated)"
   ]
  },
  {
   "cell_type": "code",
   "execution_count": 26,
   "metadata": {},
   "outputs": [
    {
     "name": "stderr",
     "output_type": "stream",
     "text": [
      "Saving data: 100%|\u001b[32m██████████\u001b[0m| 2505864/2505864 [00:00<00:00, 17657132.92rows/s]"
     ]
    },
    {
     "name": "stdout",
     "output_type": "stream",
     "text": [
      "Data saved to \"/Users/borja/Documents/Somniumrema/projects/ml/taxi_demand_predictor/data/silver/2023-2024/ts_data_2023-05_to_2024-05.parquet\"\n"
     ]
    },
    {
     "name": "stderr",
     "output_type": "stream",
     "text": [
      "\n"
     ]
    }
   ],
   "source": [
    "save_data(transformed, STREAM_DATA_DIR_SILVER, f'ts_data_{start.year}-{start.month:02d}_to_{end.year}-{end.month:02d}.parquet')"
   ]
  },
  {
   "cell_type": "code",
   "execution_count": 27,
   "metadata": {},
   "outputs": [],
   "source": [
    "ts_data = pd.read_parquet(INPUT_SILVER_DIR)\n",
    "\n",
    "# string to datetime\n",
    "ts_data['pickup_time'] = pd.to_datetime(ts_data['pickup_time'], utc=True)\n",
    "\n",
    "# add column with Unix epoch milliseconds\n",
    "ts_data['pickup_ts'] = ts_data['pickup_time'].astype(int) // 10**6\n",
    "\n",
    "# Convert the pickup_location_id column to bigint\n",
    "ts_data['pickup_location_transformed'] = ts_data['pickup_location_id'].astype('int64')"
   ]
  },
  {
   "cell_type": "code",
   "execution_count": 28,
   "metadata": {},
   "outputs": [
    {
     "name": "stdout",
     "output_type": "stream",
     "text": [
      "Connection closed.\n",
      "Connected. Call `.close()` to terminate connection gracefully.\n",
      "\n",
      "Logged in to project, explore it here https://c.app.hopsworks.ai:443/p/933012\n",
      "Connected. Call `.close()` to terminate connection gracefully.\n"
     ]
    }
   ],
   "source": [
    "# Connect to the project\n",
    "project = hopsworks.login(\n",
    "    project=cfg.HOPSWORKS_PROJECT_NAME,\n",
    "    api_key_value=cfg.HOPSWORKS_API_KEY\n",
    ")\n",
    "\n",
    "# Connect to the feature store\n",
    "feature_store = project.get_feature_store()"
   ]
  },
  {
   "cell_type": "code",
   "execution_count": 29,
   "metadata": {},
   "outputs": [],
   "source": [
    "# Connect to the feature group\n",
    "feature_group = feature_store.get_or_create_feature_group(\n",
    "    name=cfg.FEATURE_GROUP_NAME,\n",
    "    version=cfg.FEATURE_GROUP_VERSION,\n",
    "    description=\"ts data hourly frequency\",\n",
    "    primary_key = ['pickup_location_transformed', 'pickup_ts'],\n",
    "    event_time='pickup_ts',\n",
    ")"
   ]
  },
  {
   "cell_type": "code",
   "execution_count": 30,
   "metadata": {},
   "outputs": [
    {
     "name": "stdout",
     "output_type": "stream",
     "text": [
      "Feature Group created successfully, explore it at \n",
      "https://c.app.hopsworks.ai:443/p/933012/fs/926787/fg/1069387\n"
     ]
    },
    {
     "data": {
      "application/vnd.jupyter.widget-view+json": {
       "model_id": "9f2d89c94eca408f94d24bd1440e7362",
       "version_major": 2,
       "version_minor": 0
      },
      "text/plain": [
       "Uploading Dataframe: 0.00% |          | Rows 0/2505864 | Elapsed Time: 00:00 | Remaining Time: ?"
      ]
     },
     "metadata": {},
     "output_type": "display_data"
    },
    {
     "name": "stdout",
     "output_type": "stream",
     "text": [
      "Launching job: hourly_features_2023_2024_1_offline_fg_materialization\n",
      "Job started successfully, you can follow the progress at \n",
      "https://c.app.hopsworks.ai/p/933012/jobs/named/hourly_features_2023_2024_1_offline_fg_materialization/executions\n"
     ]
    },
    {
     "data": {
      "text/plain": [
       "(<hsfs.core.job.Job at 0x30b4fe410>, None)"
      ]
     },
     "execution_count": 30,
     "metadata": {},
     "output_type": "execute_result"
    }
   ],
   "source": [
    "# Insert features into the feature group\n",
    "feature_group.insert(ts_data, write_options={\"wait_for_job\": False},\n",
    "                        overwrite=True)"
   ]
  }
 ],
 "metadata": {
  "kernelspec": {
   "display_name": "taxi-demand-predictor-A_2bi8Y3-py3.11",
   "language": "python",
   "name": "python3"
  },
  "language_info": {
   "codemirror_mode": {
    "name": "ipython",
    "version": 3
   },
   "file_extension": ".py",
   "mimetype": "text/x-python",
   "name": "python",
   "nbconvert_exporter": "python",
   "pygments_lexer": "ipython3",
   "version": "3.11.9"
  }
 },
 "nbformat": 4,
 "nbformat_minor": 2
}
