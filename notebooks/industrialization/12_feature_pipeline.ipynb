{
 "cells": [
  {
   "cell_type": "code",
   "execution_count": 18,
   "metadata": {},
   "outputs": [
    {
     "name": "stdout",
     "output_type": "stream",
     "text": [
      "The autoreload extension is already loaded. To reload it, use:\n",
      "  %reload_ext autoreload\n"
     ]
    }
   ],
   "source": [
    "%load_ext autoreload\n",
    "%autoreload 2\n",
    "import os\n",
    "from datetime import datetime, timedelta\n",
    "import taxi_demand_predictor.config as cfg\n",
    "import logging\n",
    "import pandas as pd\n",
    "from typing import List\n",
    "from taxi_demand_predictor.paths import RAW_DATA_DIR, BRONZE_DATA_DIR, SILVER_DATA_DIR, GOLD_DATA_DIR, PARENT_DIR\n",
    "from taxi_demand_predictor.data import save_data\n",
    "from taxi_demand_predictor.pipeline import retrieve_data_in_range, validate_data, transform_to_ts_data\n",
    "import taxi_demand_predictor.config as cfg\n",
    "import hopsworks\n"
   ]
  },
  {
   "cell_type": "code",
   "execution_count": 36,
   "metadata": {},
   "outputs": [
    {
     "data": {
      "text/plain": [
       "(Timestamp('2024-03-29 02:00:00'), Timestamp('2024-05-24 02:00:00'))"
      ]
     },
     "execution_count": 36,
     "metadata": {},
     "output_type": "execute_result"
    }
   ],
   "source": [
    "# Fetch data from the API for the last 28 days\n",
    "current_date = pd.to_datetime(datetime.utcnow()).floor('h') - 1 * timedelta(hours=1)\n",
    "end = cfg.END_DATE\n",
    "start = cfg.START_DATE\n",
    "\n",
    "# Define the base URL for the API\n",
    "base_url = \"https://d37ci6vzurychx.cloudfront.net/trip-data/\"\n",
    "\n",
    "start, end"
   ]
  },
  {
   "cell_type": "code",
   "execution_count": 20,
   "metadata": {},
   "outputs": [],
   "source": [
    "STREAM_DATA_DIR_RAW = RAW_DATA_DIR / \"2023-2024\"\n",
    "STREAM_DATA_DIR_BRONZE = BRONZE_DATA_DIR / \"2023-2024\"\n",
    "STREAM_DATA_DIR_SILVER = SILVER_DATA_DIR / \"2023-2024\"\n",
    "STREAM_DATA_DIR_GOLD = GOLD_DATA_DIR / \"2023-2024\""
   ]
  },
  {
   "cell_type": "code",
   "execution_count": 34,
   "metadata": {},
   "outputs": [
    {
     "name": "stdout",
     "output_type": "stream",
     "text": [
      "Start Date: 2024-03-29 02:00:00\n",
      "End Date: 2024-05-24 02:00:00\n"
     ]
    },
    {
     "data": {
      "text/html": [
       "<div>\n",
       "<style scoped>\n",
       "    .dataframe tbody tr th:only-of-type {\n",
       "        vertical-align: middle;\n",
       "    }\n",
       "\n",
       "    .dataframe tbody tr th {\n",
       "        vertical-align: top;\n",
       "    }\n",
       "\n",
       "    .dataframe thead th {\n",
       "        text-align: right;\n",
       "    }\n",
       "</style>\n",
       "<table border=\"1\" class=\"dataframe\">\n",
       "  <thead>\n",
       "    <tr style=\"text-align: right;\">\n",
       "      <th></th>\n",
       "      <th>VendorID</th>\n",
       "      <th>tpep_pickup_datetime</th>\n",
       "      <th>tpep_dropoff_datetime</th>\n",
       "      <th>passenger_count</th>\n",
       "      <th>trip_distance</th>\n",
       "      <th>RatecodeID</th>\n",
       "      <th>store_and_fwd_flag</th>\n",
       "      <th>PULocationID</th>\n",
       "      <th>DOLocationID</th>\n",
       "      <th>payment_type</th>\n",
       "      <th>fare_amount</th>\n",
       "      <th>extra</th>\n",
       "      <th>mta_tax</th>\n",
       "      <th>tip_amount</th>\n",
       "      <th>tolls_amount</th>\n",
       "      <th>improvement_surcharge</th>\n",
       "      <th>total_amount</th>\n",
       "      <th>congestion_surcharge</th>\n",
       "      <th>Airport_fee</th>\n",
       "    </tr>\n",
       "  </thead>\n",
       "  <tbody>\n",
       "    <tr>\n",
       "      <th>0</th>\n",
       "      <td>1</td>\n",
       "      <td>2024-04-01 00:02:40</td>\n",
       "      <td>2024-04-01 00:30:42</td>\n",
       "      <td>0.0</td>\n",
       "      <td>5.20</td>\n",
       "      <td>1.0</td>\n",
       "      <td>N</td>\n",
       "      <td>161</td>\n",
       "      <td>7</td>\n",
       "      <td>1</td>\n",
       "      <td>29.6</td>\n",
       "      <td>3.5</td>\n",
       "      <td>0.5</td>\n",
       "      <td>8.65</td>\n",
       "      <td>0.0</td>\n",
       "      <td>1.0</td>\n",
       "      <td>43.25</td>\n",
       "      <td>2.5</td>\n",
       "      <td>0.0</td>\n",
       "    </tr>\n",
       "    <tr>\n",
       "      <th>1</th>\n",
       "      <td>2</td>\n",
       "      <td>2024-04-01 00:41:12</td>\n",
       "      <td>2024-04-01 00:55:29</td>\n",
       "      <td>1.0</td>\n",
       "      <td>5.60</td>\n",
       "      <td>1.0</td>\n",
       "      <td>N</td>\n",
       "      <td>264</td>\n",
       "      <td>264</td>\n",
       "      <td>1</td>\n",
       "      <td>25.4</td>\n",
       "      <td>1.0</td>\n",
       "      <td>0.5</td>\n",
       "      <td>10.00</td>\n",
       "      <td>0.0</td>\n",
       "      <td>1.0</td>\n",
       "      <td>37.90</td>\n",
       "      <td>0.0</td>\n",
       "      <td>0.0</td>\n",
       "    </tr>\n",
       "    <tr>\n",
       "      <th>2</th>\n",
       "      <td>2</td>\n",
       "      <td>2024-04-01 00:48:42</td>\n",
       "      <td>2024-04-01 01:05:30</td>\n",
       "      <td>1.0</td>\n",
       "      <td>3.55</td>\n",
       "      <td>1.0</td>\n",
       "      <td>N</td>\n",
       "      <td>186</td>\n",
       "      <td>236</td>\n",
       "      <td>1</td>\n",
       "      <td>20.5</td>\n",
       "      <td>1.0</td>\n",
       "      <td>0.5</td>\n",
       "      <td>5.10</td>\n",
       "      <td>0.0</td>\n",
       "      <td>1.0</td>\n",
       "      <td>30.60</td>\n",
       "      <td>2.5</td>\n",
       "      <td>0.0</td>\n",
       "    </tr>\n",
       "    <tr>\n",
       "      <th>3</th>\n",
       "      <td>2</td>\n",
       "      <td>2024-04-01 00:56:02</td>\n",
       "      <td>2024-04-01 01:05:09</td>\n",
       "      <td>1.0</td>\n",
       "      <td>1.06</td>\n",
       "      <td>1.0</td>\n",
       "      <td>N</td>\n",
       "      <td>137</td>\n",
       "      <td>164</td>\n",
       "      <td>2</td>\n",
       "      <td>10.0</td>\n",
       "      <td>1.0</td>\n",
       "      <td>0.5</td>\n",
       "      <td>0.00</td>\n",
       "      <td>0.0</td>\n",
       "      <td>1.0</td>\n",
       "      <td>15.00</td>\n",
       "      <td>2.5</td>\n",
       "      <td>0.0</td>\n",
       "    </tr>\n",
       "    <tr>\n",
       "      <th>4</th>\n",
       "      <td>1</td>\n",
       "      <td>2024-04-01 00:08:32</td>\n",
       "      <td>2024-04-01 00:10:24</td>\n",
       "      <td>1.0</td>\n",
       "      <td>0.70</td>\n",
       "      <td>1.0</td>\n",
       "      <td>N</td>\n",
       "      <td>236</td>\n",
       "      <td>263</td>\n",
       "      <td>1</td>\n",
       "      <td>5.1</td>\n",
       "      <td>3.5</td>\n",
       "      <td>0.5</td>\n",
       "      <td>2.00</td>\n",
       "      <td>0.0</td>\n",
       "      <td>1.0</td>\n",
       "      <td>12.10</td>\n",
       "      <td>2.5</td>\n",
       "      <td>0.0</td>\n",
       "    </tr>\n",
       "  </tbody>\n",
       "</table>\n",
       "</div>"
      ],
      "text/plain": [
       "   VendorID tpep_pickup_datetime tpep_dropoff_datetime  passenger_count  \\\n",
       "0         1  2024-04-01 00:02:40   2024-04-01 00:30:42              0.0   \n",
       "1         2  2024-04-01 00:41:12   2024-04-01 00:55:29              1.0   \n",
       "2         2  2024-04-01 00:48:42   2024-04-01 01:05:30              1.0   \n",
       "3         2  2024-04-01 00:56:02   2024-04-01 01:05:09              1.0   \n",
       "4         1  2024-04-01 00:08:32   2024-04-01 00:10:24              1.0   \n",
       "\n",
       "   trip_distance  RatecodeID store_and_fwd_flag  PULocationID  DOLocationID  \\\n",
       "0           5.20         1.0                  N           161             7   \n",
       "1           5.60         1.0                  N           264           264   \n",
       "2           3.55         1.0                  N           186           236   \n",
       "3           1.06         1.0                  N           137           164   \n",
       "4           0.70         1.0                  N           236           263   \n",
       "\n",
       "   payment_type  fare_amount  extra  mta_tax  tip_amount  tolls_amount  \\\n",
       "0             1         29.6    3.5      0.5        8.65           0.0   \n",
       "1             1         25.4    1.0      0.5       10.00           0.0   \n",
       "2             1         20.5    1.0      0.5        5.10           0.0   \n",
       "3             2         10.0    1.0      0.5        0.00           0.0   \n",
       "4             1          5.1    3.5      0.5        2.00           0.0   \n",
       "\n",
       "   improvement_surcharge  total_amount  congestion_surcharge  Airport_fee  \n",
       "0                    1.0         43.25                   2.5          0.0  \n",
       "1                    1.0         37.90                   0.0          0.0  \n",
       "2                    1.0         30.60                   2.5          0.0  \n",
       "3                    1.0         15.00                   2.5          0.0  \n",
       "4                    1.0         12.10                   2.5          0.0  "
      ]
     },
     "execution_count": 34,
     "metadata": {},
     "output_type": "execute_result"
    }
   ],
   "source": [
    "# Create the directories if they don't exist\n",
    "base_path = \"/Users/borja/Documents/Somniumrema/projects/ml/taxi_demand_predictor/data/raw\"\n",
    "# \n",
    "df = retrieve_data_in_range(start, end, RAW_DATA_DIR)\n",
    "df.head()"
   ]
  },
  {
   "cell_type": "code",
   "execution_count": 22,
   "metadata": {},
   "outputs": [
    {
     "name": "stderr",
     "output_type": "stream",
     "text": [
      "Saving data: 100%|\u001b[32m██████████\u001b[0m| 7238122/7238122 [00:01<00:00, 3881547.10rows/s]"
     ]
    },
    {
     "name": "stdout",
     "output_type": "stream",
     "text": [
      "Data saved to \"/Users/borja/Documents/Somniumrema/projects/ml/taxi_demand_predictor/data/raw/2023-2024/yellow_tripdata_2024-03-29_to_2024-05-24.parquet\"\n"
     ]
    },
    {
     "name": "stderr",
     "output_type": "stream",
     "text": [
      "\n"
     ]
    }
   ],
   "source": [
    "save_data(df, STREAM_DATA_DIR_RAW, f'yellow_tripdata_{start.year}-{start.month:02d}-{start.day:02d}_to_{end.year}-{end.month:02d}-{end.day:02d}.parquet')"
   ]
  },
  {
   "cell_type": "code",
   "execution_count": 23,
   "metadata": {},
   "outputs": [
    {
     "name": "stderr",
     "output_type": "stream",
     "text": [
      "Saving data: 100%|\u001b[32m██████████\u001b[0m| 6482804/6482804 [00:00<00:00, 12382255.33rows/s]"
     ]
    },
    {
     "name": "stdout",
     "output_type": "stream",
     "text": [
      "Data saved to \"/Users/borja/Documents/Somniumrema/projects/ml/taxi_demand_predictor/data/bronze/2023-2024/validated_yellow_tripdata_2024-03-29_to_2024-05-24.parquet\"\n"
     ]
    },
    {
     "name": "stderr",
     "output_type": "stream",
     "text": [
      "\n"
     ]
    }
   ],
   "source": [
    "validated = validate_data(STREAM_DATA_DIR_RAW, start, end )\n",
    "\n",
    "save_data(validated, STREAM_DATA_DIR_BRONZE, f'validated_yellow_tripdata_{start.year}-{start.month:02d}-{start.day:02d}_to_{end.year}-{end.month:02d}-{end.day:02d}.parquet')"
   ]
  },
  {
   "cell_type": "code",
   "execution_count": 24,
   "metadata": {},
   "outputs": [
    {
     "data": {
      "text/plain": [
       "(Timestamp('2024-03-29 02:00:02'), Timestamp('2024-05-24 01:59:54'))"
      ]
     },
     "execution_count": 24,
     "metadata": {},
     "output_type": "execute_result"
    }
   ],
   "source": [
    "validated = pd.read_parquet(f'{STREAM_DATA_DIR_BRONZE}/validated_yellow_tripdata_{start.year}-{start.month:02d}-{start.day:02d}_to_{end.year}-{end.month:02d}-{end.day:02d}.parquet')\n",
    "\n",
    "# Check the range of the data\n",
    "validated.pickup_datetime.min(), validated.pickup_datetime.max()"
   ]
  },
  {
   "cell_type": "code",
   "execution_count": 25,
   "metadata": {},
   "outputs": [
    {
     "name": "stderr",
     "output_type": "stream",
     "text": [
      "Saving data: 100%|\u001b[32m██████████\u001b[0m| 350523/350523 [00:00<00:00, 20444716.68rows/s]"
     ]
    },
    {
     "name": "stdout",
     "output_type": "stream",
     "text": [
      "Data saved to \"/Users/borja/Documents/Somniumrema/projects/ml/taxi_demand_predictor/data/silver/2023-2024/ts_data_2024-03-29_to_2024-05-24.parquet\"\n"
     ]
    },
    {
     "name": "stderr",
     "output_type": "stream",
     "text": [
      "\n"
     ]
    }
   ],
   "source": [
    "# Transform the data\n",
    "transformed = transform_to_ts_data(validated, freq = 'h')\n",
    "\n",
    "# Save the transformed data\n",
    "save_data(transformed, STREAM_DATA_DIR_SILVER, f'ts_data_{start.year}-{start.month:02d}-{start.day:02d}_to_{end.year}-{end.month:02d}-{end.day:02d}.parquet')"
   ]
  },
  {
   "cell_type": "code",
   "execution_count": 26,
   "metadata": {},
   "outputs": [],
   "source": [
    "INPUT_SILVER_DIR =  STREAM_DATA_DIR_SILVER / f'ts_data_{start.year}-{start.month:02d}-{start.day:02d}_to_{end.year}-{end.month:02d}-{end.day:02d}.parquet'\n",
    "\n",
    "ts_data = pd.read_parquet(INPUT_SILVER_DIR)\n",
    "\n",
    "# Assuming ts_data is your DataFrame\n",
    "ts_data = ts_data.assign(\n",
    "    pickup_time=pd.to_datetime(ts_data['pickup_time']),\n",
    "    pickup_ts=lambda df: df['pickup_time'].astype(int) // 10**6,\n",
    "    pickup_location_id=lambda df: df['pickup_location_id'].astype('int64')\n",
    ")"
   ]
  },
  {
   "cell_type": "code",
   "execution_count": 27,
   "metadata": {},
   "outputs": [
    {
     "name": "stdout",
     "output_type": "stream",
     "text": [
      "<class 'pandas.core.frame.DataFrame'>\n",
      "RangeIndex: 350523 entries, 0 to 350522\n",
      "Data columns (total 4 columns):\n",
      " #   Column              Non-Null Count   Dtype         \n",
      "---  ------              --------------   -----         \n",
      " 0   pickup_time         350523 non-null  datetime64[ns]\n",
      " 1   pickup_location_id  350523 non-null  int64         \n",
      " 2   ride_count          350523 non-null  float64       \n",
      " 3   pickup_ts           350523 non-null  int64         \n",
      "dtypes: datetime64[ns](1), float64(1), int64(2)\n",
      "memory usage: 10.7 MB\n"
     ]
    }
   ],
   "source": [
    "ts_data.info()"
   ]
  },
  {
   "cell_type": "code",
   "execution_count": 28,
   "metadata": {},
   "outputs": [
    {
     "name": "stdout",
     "output_type": "stream",
     "text": [
      "Connection closed.\n",
      "Connected. Call `.close()` to terminate connection gracefully.\n",
      "\n",
      "Logged in to project, explore it here https://c.app.hopsworks.ai:443/p/933012\n",
      "Connected. Call `.close()` to terminate connection gracefully.\n"
     ]
    }
   ],
   "source": [
    "# Connect to the project\n",
    "project = hopsworks.login(\n",
    "    project=cfg.HOPSWORKS_PROJECT_NAME,\n",
    "    api_key_value=cfg.HOPSWORKS_API_KEY\n",
    ")\n",
    "\n",
    "# Connect to the feature store\n",
    "feature_store = project.get_feature_store()"
   ]
  },
  {
   "cell_type": "code",
   "execution_count": 32,
   "metadata": {},
   "outputs": [],
   "source": [
    "# Connect to the feature group\n",
    "feature_group = feature_store.get_or_create_feature_group(\n",
    "    **cfg.FEATURE_GROUP_METADATA\n",
    ")"
   ]
  },
  {
   "cell_type": "code",
   "execution_count": 33,
   "metadata": {},
   "outputs": [
    {
     "data": {
      "application/vnd.jupyter.widget-view+json": {
       "model_id": "44444775afe94d7cab64b1f5ea513027",
       "version_major": 2,
       "version_minor": 0
      },
      "text/plain": [
       "Uploading Dataframe: 0.00% |          | Rows 0/350523 | Elapsed Time: 00:00 | Remaining Time: ?"
      ]
     },
     "metadata": {},
     "output_type": "display_data"
    },
    {
     "name": "stdout",
     "output_type": "stream",
     "text": [
      "Launching job: group_features_hourly_2023_03_29_to_2024_05_24_1_offline_fg_materialization\n",
      "Job started successfully, you can follow the progress at \n",
      "https://c.app.hopsworks.ai/p/933012/jobs/named/group_features_hourly_2023_03_29_to_2024_05_24_1_offline_fg_materialization/executions\n"
     ]
    },
    {
     "data": {
      "text/plain": [
       "(<hsfs.core.job.Job at 0x3571f4b50>, None)"
      ]
     },
     "execution_count": 33,
     "metadata": {},
     "output_type": "execute_result"
    }
   ],
   "source": [
    "# Insert features into the feature group\n",
    "feature_group.insert(ts_data, write_options={\"wait_for_job\": False},\n",
    "                        overwrite=True)"
   ]
  }
 ],
 "metadata": {
  "kernelspec": {
   "display_name": "taxi-demand-predictor-A_2bi8Y3-py3.11",
   "language": "python",
   "name": "python3"
  },
  "language_info": {
   "codemirror_mode": {
    "name": "ipython",
    "version": 3
   },
   "file_extension": ".py",
   "mimetype": "text/x-python",
   "name": "python",
   "nbconvert_exporter": "python",
   "pygments_lexer": "ipython3",
   "version": "3.11.9"
  }
 },
 "nbformat": 4,
 "nbformat_minor": 2
}
