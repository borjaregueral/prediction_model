{
 "cells": [
  {
   "cell_type": "code",
   "execution_count": 4,
   "metadata": {},
   "outputs": [],
   "source": [
    "import os\n",
    "\n",
    "import sys\n",
    "import os\n",
    "\n",
    "\n",
    "from datetime import datetime, timedelta\n",
    "import taxi_demand_predictor.config as cfg\n",
    "import logging\n",
    "import pandas as pd\n",
    "from typing import List\n",
    "from taxi_demand_predictor.data import save_data\n",
    "from taxi_demand_predictor.pipeline import retrieve_data_in_range, validate_and_save_data, transform_to_ts_data\n",
    "import hopsworks\n"
   ]
  },
  {
   "cell_type": "code",
   "execution_count": null,
   "metadata": {},
   "outputs": [],
   "source": [
    "# Fetch data from the API for the last 28 days\n",
    "current_date = pd.to_datetime(datetime.utcnow()).floor('H')\n",
    "end = current_date - timedelta(days=7*10)\n",
    "start = end - timedelta(days=7*52)\n",
    "\n",
    "# Define the base URL for the API\n",
    "base_url = \"https://d37ci6vzurychx.cloudfront.net/trip-data/\"\n",
    "\n",
    "start, end"
   ]
  },
  {
   "cell_type": "code",
   "execution_count": null,
   "metadata": {},
   "outputs": [],
   "source": [
    "# STREAM_DATA_DIR_RAW = RAW_DATA_DIR / \"2023-2024\"\n",
    "# STREAM_DATA_DIR_BRONZE = BRONZE_DATA_DIR / \"2023-2024\"\n",
    "# STREAM_DATA_DIR_SILVER = SILVER_DATA_DIR / \"2023-2024\"\n",
    "# STREAM_DATA_DIR_GOLD = GOLD_DATA_DIR / \"2023-2024\"\n",
    "# INPUT_RAW_DIR = RAW_DATA_DIR / \"2023-2024\"/f'yellow_tripdata_{start.year}-{start.month:02d}_to_{end.year}-{end.month:02d}.parquet'\n",
    "# INPUT_SILVER_DIR = STREAM_DATA_DIR_SILVER /f'ts_data_{start.year}-{start.month:02d}_to_{end.year}-{end.month:02d}.parquet'"
   ]
  },
  {
   "cell_type": "code",
   "execution_count": null,
   "metadata": {},
   "outputs": [],
   "source": [
    "# Example usage\n",
    "base_path = \"/Users/borja/Documents/Somniumrema/projects/ml/taxi_demand_predictor/data/raw\"\n",
    "\n",
    "df = retrieve_data_in_range(start, end, RAW_DATA_DIR)\n",
    "df"
   ]
  },
  {
   "cell_type": "code",
   "execution_count": null,
   "metadata": {},
   "outputs": [],
   "source": [
    "save_data(df, STREAM_DATA_DIR_RAW, f'yellow_tripdata_{start.year}-{start.month:02d}_to_{end.year}-{end.month:02d}.parquet')"
   ]
  },
  {
   "cell_type": "code",
   "execution_count": null,
   "metadata": {},
   "outputs": [],
   "source": [
    "validated = validate_and_save_data(STREAM_DATA_DIR_RAW, start, end)\n",
    "\n",
    "save_data(validated, STREAM_DATA_DIR_BRONZE, f'validated_yellow_tripdata_{start.year}-{start.month:02d}_to_{end.year}-{end.month:02d}.parquet')"
   ]
  },
  {
   "cell_type": "code",
   "execution_count": null,
   "metadata": {},
   "outputs": [],
   "source": [
    "validated = pd.read_parquet(f'{STREAM_DATA_DIR_BRONZE}/validated_yellow_tripdata_{start.year}-{start.month:02d}_to_{end.year}-{end.month:02d}.parquet')\n",
    "\n",
    "transformed = transform_to_ts_data(validated)"
   ]
  },
  {
   "cell_type": "code",
   "execution_count": null,
   "metadata": {},
   "outputs": [],
   "source": [
    "save_data(transformed, STREAM_DATA_DIR_SILVER, f'ts_data_{start.year}-{start.month:02d}_to_{end.year}-{end.month:02d}.parquet')"
   ]
  },
  {
   "cell_type": "code",
   "execution_count": null,
   "metadata": {},
   "outputs": [],
   "source": [
    "ts_data = pd.read_parquet(INPUT_SILVER_DIR)\n",
    "\n",
    "# string to datetime\n",
    "ts_data['pickup_time'] = pd.to_datetime(ts_data['pickup_time'], utc=True)\n",
    "\n",
    "# add column with Unix epoch milliseconds\n",
    "ts_data['pickup_ts'] = ts_data['pickup_time'].astype(int) // 10**6\n",
    "\n",
    "# Convert the pickup_location_id column to bigint\n",
    "ts_data['pickup_location_transformed'] = ts_data['pickup_location_id'].astype('int64')"
   ]
  },
  {
   "cell_type": "code",
   "execution_count": null,
   "metadata": {},
   "outputs": [],
   "source": [
    "# Connect to the project\n",
    "project = hopsworks.login(\n",
    "    project=cfg.HOPSWORKS_PROJECT_NAME,\n",
    "    api_key_value=cfg.HOPSWORKS_API_KEY\n",
    ")\n",
    "\n",
    "# Connect to the feature store\n",
    "feature_store = project.get_feature_store()"
   ]
  },
  {
   "cell_type": "code",
   "execution_count": null,
   "metadata": {},
   "outputs": [],
   "source": [
    "# Connect to the feature group\n",
    "feature_group = feature_store.get_or_create_feature_group(\n",
    "    name=cfg.FEATURE_GROUP_NAME,\n",
    "    version=cfg.FEATURE_GROUP_VERSION,\n",
    "    description=\"ts data hourly frequency\",\n",
    "    primary_key = ['pickup_location_transformed', 'pickup_ts'],\n",
    "    event_time='pickup_ts',\n",
    ")"
   ]
  },
  {
   "cell_type": "code",
   "execution_count": null,
   "metadata": {},
   "outputs": [],
   "source": [
    "# Insert features into the feature group\n",
    "feature_group.insert(ts_data, write_options={\"wait_for_job\": False},\n",
    "                        overwrite=True)"
   ]
  }
 ],
 "metadata": {
  "kernelspec": {
   "display_name": "taxi-demand-predictor-A_2bi8Y3-py3.11",
   "language": "python",
   "name": "python3"
  },
  "language_info": {
   "codemirror_mode": {
    "name": "ipython",
    "version": 3
   },
   "file_extension": ".py",
   "mimetype": "text/x-python",
   "name": "python",
   "nbconvert_exporter": "python",
   "pygments_lexer": "ipython3",
   "version": "3.11.9"
  }
 },
 "nbformat": 4,
 "nbformat_minor": 2
}
