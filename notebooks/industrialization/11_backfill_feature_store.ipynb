{
 "cells": [
  {
   "cell_type": "code",
   "execution_count": 1,
   "metadata": {},
   "outputs": [
    {
     "name": "stderr",
     "output_type": "stream",
     "text": [
      "2024-08-16 01:40:12,680 - INFO - Folder \"data\" ensured at \"/Users/borja/Documents/Somniumrema/projects/ml/taxi_demand_predictor/data\"\n",
      "2024-08-16 01:40:12,684 - INFO - Folder \"raw\" ensured at \"/Users/borja/Documents/Somniumrema/projects/ml/taxi_demand_predictor/data/raw\"\n",
      "2024-08-16 01:40:12,689 - INFO - Folder \"bronze\" ensured at \"/Users/borja/Documents/Somniumrema/projects/ml/taxi_demand_predictor/data/bronze\"\n",
      "2024-08-16 01:40:12,692 - INFO - Folder \"silver\" ensured at \"/Users/borja/Documents/Somniumrema/projects/ml/taxi_demand_predictor/data/silver\"\n",
      "2024-08-16 01:40:12,693 - INFO - Folder \"gold\" ensured at \"/Users/borja/Documents/Somniumrema/projects/ml/taxi_demand_predictor/data/gold\"\n",
      "2024-08-16 01:40:12,693 - INFO - Folder \"models\" ensured at \"/Users/borja/Documents/Somniumrema/projects/ml/taxi_demand_predictor/models\"\n"
     ]
    }
   ],
   "source": [
    "import os\n",
    "from dotenv import load_dotenv\n",
    "from taxi_demand_predictor.paths import PARENT_DIR, RAW_DATA_DIR, BRONZE_DATA_DIR, SILVER_DATA_DIR, GOLD_DATA_DIR\n",
    "from taxi_demand_predictor.data import transform_save_data_into_ts_data, validate_and_save_data\n",
    "from datetime import datetime\n",
    "import taxi_demand_predictor.config as cfg\n",
    "import pandas as pd\n",
    "from pathlib import Path\n",
    "import hopsworks"
   ]
  },
  {
   "cell_type": "code",
   "execution_count": 2,
   "metadata": {},
   "outputs": [],
   "source": [
    "# Path to the root directory of the project in hopsworks\n",
    "HOPSWORKS_PROJECT_NAME = 'demand_predictor_borja'\n",
    "\n",
    "# Load the environment variables\n",
    "load_dotenv(PARENT_DIR / '.env')    \n",
    "\n",
    "HOPSWORKS_API_KEY = os.environ.get('HOPSWORKS_API_KEY')"
   ]
  },
  {
   "cell_type": "code",
   "execution_count": 3,
   "metadata": {},
   "outputs": [
    {
     "name": "stdout",
     "output_type": "stream",
     "text": [
      "Combined parquet file saved to /Users/borja/Documents/Somniumrema/projects/ml/taxi_demand_predictor/data/silver/2023-2024/ts_data_2023-2024.parquet\n",
      "Number of rides: 3202920\n"
     ]
    }
   ],
   "source": [
    "\n",
    "# Define the file paths\n",
    "file_2023 = Path(f\"{SILVER_DATA_DIR}/2023/ts_data_2023.parquet\")\n",
    "file_2024 = Path(f\"{SILVER_DATA_DIR}/2024/ts_data_2024.parquet\")\n",
    "\n",
    "# Read the parquet files\n",
    "df_2023 = pd.read_parquet(file_2023)\n",
    "df_2024 = pd.read_parquet(file_2024)\n",
    "\n",
    "# Concatenate the DataFrames\n",
    "combined_df = pd.concat([df_2023, df_2024], ignore_index=True)\n",
    "combined_df.drop_duplicates(inplace=True)\n",
    "\n",
    "# Define the output file path\n",
    "output_file = Path(f\"{SILVER_DATA_DIR}/2023-2024/ts_data_2023-2024.parquet\")\n",
    "\n",
    "# Save the combined DataFrame to a new parquet file\n",
    "combined_df.to_parquet(output_file)\n",
    "\n",
    "print(f\"Combined parquet file saved to {output_file}\")\n",
    "print(f\"Number of rides: {combined_df.shape[0]}\")"
   ]
  },
  {
   "cell_type": "code",
   "execution_count": 4,
   "metadata": {},
   "outputs": [
    {
     "data": {
      "text/plain": [
       "(  pickup_time  pickup_location_id  ride_count\n",
       " 0  2023-01-01                   4        18.0\n",
       " 1  2023-01-01                   7         3.0\n",
       " 2  2023-01-01                  12         1.0\n",
       " 3  2023-01-01                  13        14.0\n",
       " 4  2023-01-01                  24        20.0,\n",
       "                 pickup_time  pickup_location_id  ride_count\n",
       " 3202915 2024-05-31 23:00:00                 176         0.0\n",
       " 3202916 2024-05-31 23:00:00                   2         0.0\n",
       " 3202917 2024-05-31 23:00:00                 187         0.0\n",
       " 3202918 2024-05-31 23:00:00                 206         0.0\n",
       " 3202919 2024-05-31 23:00:00                  84         0.0)"
      ]
     },
     "execution_count": 4,
     "metadata": {},
     "output_type": "execute_result"
    }
   ],
   "source": [
    "combined_df.head(), combined_df.tail()"
   ]
  },
  {
   "cell_type": "code",
   "execution_count": 5,
   "metadata": {},
   "outputs": [],
   "source": [
    "# Convert 'pickup_time' to Unix timestamp (BIGINT) so that it can be stored\n",
    "combined_df['pickup_ts'] = pd.to_datetime(combined_df['pickup_time']).astype(int) // 10**9"
   ]
  },
  {
   "cell_type": "code",
   "execution_count": 6,
   "metadata": {},
   "outputs": [
    {
     "name": "stdout",
     "output_type": "stream",
     "text": [
      "Connected. Call `.close()` to terminate connection gracefully.\n",
      "\n",
      "Logged in to project, explore it here https://c.app.hopsworks.ai:443/p/933012\n"
     ]
    }
   ],
   "source": [
    "project = hopsworks.login(project = HOPSWORKS_PROJECT_NAME,\n",
    "                          api_key_value = HOPSWORKS_API_KEY\n",
    "                          )"
   ]
  },
  {
   "cell_type": "code",
   "execution_count": 7,
   "metadata": {},
   "outputs": [
    {
     "name": "stdout",
     "output_type": "stream",
     "text": [
      "Connected. Call `.close()` to terminate connection gracefully.\n"
     ]
    }
   ],
   "source": [
    "feature_store = project.get_feature_store()"
   ]
  },
  {
   "cell_type": "code",
   "execution_count": 8,
   "metadata": {},
   "outputs": [],
   "source": [
    "# FEATURE_GROUP_NAME = 'hourly_features_2023_2024'    \n",
    "# FEATURE_GROUP_VERSION = 1"
   ]
  },
  {
   "cell_type": "code",
   "execution_count": 9,
   "metadata": {},
   "outputs": [],
   "source": [
    "feature_group = feature_store.get_or_create_feature_group(\n",
    "  name = cfg.FEATURE_GROUP_METADATA['name'] , \n",
    "  version= cfg.FEATURE_GROUP_METADATA['version'], \n",
    "  description='time series hourly features for 2023-2024 cab rides',\n",
    "  primary_key=['pickup_ts', 'pickup_location_id'], \n",
    "  event_time='pickup_ts',\n",
    "  online_enabled=True,\n",
    ")"
   ]
  },
  {
   "cell_type": "code",
   "execution_count": 10,
   "metadata": {},
   "outputs": [
    {
     "name": "stdout",
     "output_type": "stream",
     "text": [
      "Feature Group created successfully, explore it at \n",
      "https://c.app.hopsworks.ai:443/p/933012/fs/926787/fg/1104205\n"
     ]
    },
    {
     "data": {
      "application/vnd.jupyter.widget-view+json": {
       "model_id": "c1177df18c3443a5a3a5edacc662336b",
       "version_major": 2,
       "version_minor": 0
      },
      "text/plain": [
       "Uploading Dataframe: 0.00% |          | Rows 0/3202920 | Elapsed Time: 00:00 | Remaining Time: ?"
      ]
     },
     "metadata": {},
     "output_type": "display_data"
    },
    {
     "name": "stdout",
     "output_type": "stream",
     "text": [
      "Launching job: hourly_features_2023_2024_3_offline_fg_materialization\n",
      "Job started successfully, you can follow the progress at \n",
      "https://c.app.hopsworks.ai/p/933012/jobs/named/hourly_features_2023_2024_3_offline_fg_materialization/executions\n"
     ]
    },
    {
     "data": {
      "text/plain": [
       "(<hsfs.core.job.Job at 0x17410ced0>, None)"
      ]
     },
     "execution_count": 10,
     "metadata": {},
     "output_type": "execute_result"
    }
   ],
   "source": [
    "feature_group.save(combined_df, write_options={\"wait_for_job\": False})"
   ]
  }
 ],
 "metadata": {
  "kernelspec": {
   "display_name": "taxi-demand-predictor-A_2bi8Y3-py3.11",
   "language": "python",
   "name": "python3"
  },
  "language_info": {
   "codemirror_mode": {
    "name": "ipython",
    "version": 3
   },
   "file_extension": ".py",
   "mimetype": "text/x-python",
   "name": "python",
   "nbconvert_exporter": "python",
   "pygments_lexer": "ipython3",
   "version": "3.11.9"
  }
 },
 "nbformat": 4,
 "nbformat_minor": 2
}
