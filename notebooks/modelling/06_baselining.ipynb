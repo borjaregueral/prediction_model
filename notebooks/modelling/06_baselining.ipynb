{
 "cells": [
  {
   "cell_type": "code",
   "execution_count": 1,
   "metadata": {},
   "outputs": [],
   "source": [
    "%reload_ext autoreload\n",
    "%autoreload 2"
   ]
  },
  {
   "cell_type": "code",
   "execution_count": 2,
   "metadata": {},
   "outputs": [],
   "source": [
    "import numpy as np\n",
    "import pandas as pd\n",
    "from paths import GOLD_DATA_DIR\n",
    "from baselining_models import (\n",
    "    BaselineModelPreviousHour,\n",
    "    BaselineModelPreviousWeek,\n",
    "    BaselineModelLast4Weeks)\n",
    "from preprocessing import split_data\n",
    "from datetime import datetime\n",
    "from sklearn.metrics import mean_absolute_error  "
   ]
  },
  {
   "cell_type": "code",
   "execution_count": 3,
   "metadata": {},
   "outputs": [],
   "source": [
    "training_data = pd.read_parquet(f'{GOLD_DATA_DIR}/2023/model_data_2023.parquet')"
   ]
  },
  {
   "cell_type": "code",
   "execution_count": 4,
   "metadata": {},
   "outputs": [],
   "source": [
    "X_train, y_train, X_test, y_test = split_data(training_data,\n",
    "           'pickup_time',\n",
    "           '2023-10-30 00:00:00',\n",
    "           'rides_next_hour')"
   ]
  },
  {
   "cell_type": "code",
   "execution_count": 5,
   "metadata": {},
   "outputs": [
    {
     "name": "stdout",
     "output_type": "stream",
     "text": [
      "X_train.shape=(5683, 673)\n",
      "y_train.shape=(5683,)\n",
      "X_test.shape=(1805, 673)\n",
      "y_test.shape=(1805,)\n"
     ]
    }
   ],
   "source": [
    "print(f'{X_train.shape=}')\n",
    "print(f'{y_train.shape=}')\n",
    "print(f'{X_test.shape=}')\n",
    "print(f'{y_test.shape=}')"
   ]
  },
  {
   "cell_type": "code",
   "execution_count": 6,
   "metadata": {},
   "outputs": [],
   "source": [
    "# class BaselineModelPreviousHour:\n",
    "#     \"\"\"\n",
    "#     predict: Actual demand observed at last day and same hour\n",
    "#     \"\"\"\n",
    "#     def fit(self, X_train: pd.DataFrame, y_train: pd.Series):\n",
    "#         pass\n",
    "\n",
    "#     def predict(self, X_test: pd.DataFrame)-> np.ndarray:\n",
    "#         return X_test['rides_previous_1_hour']"
   ]
  },
  {
   "cell_type": "code",
   "execution_count": 7,
   "metadata": {},
   "outputs": [
    {
     "name": "stdout",
     "output_type": "stream",
     "text": [
      "test_mae=5.5252\n"
     ]
    }
   ],
   "source": [
    "model = BaselineModelPreviousHour()\n",
    "model.fit(X_train, y_train)\n",
    "predictions = model.predict(X_test)\n",
    "\n",
    "test_mae = mean_absolute_error(y_test, predictions)\n",
    "print(f'{test_mae=:.4f}')  "
   ]
  },
  {
   "cell_type": "code",
   "execution_count": 8,
   "metadata": {},
   "outputs": [],
   "source": [
    "# class BaselineModelPreviousWeek:\n",
    "#     \"\"\"\n",
    "#     predict: Actual demand observed at t = 7 days\n",
    "#     \"\"\"\n",
    "#     def fit(self, X_train: pd.DataFrame, y_train: pd.Series):\n",
    "#         pass\n",
    "#     def predict(self, X_test: pd.DataFrame)-> np.ndarray:\n",
    "#         return X_test[f'rides_previous_{24*7}_hour']"
   ]
  },
  {
   "cell_type": "code",
   "execution_count": 9,
   "metadata": {},
   "outputs": [
    {
     "name": "stdout",
     "output_type": "stream",
     "text": [
      "test_mae=3.3546\n"
     ]
    }
   ],
   "source": [
    "model = BaselineModelPreviousWeek()\n",
    "model.fit(X_train, y_train)\n",
    "predictions = model.predict(X_test)\n",
    "\n",
    "test_mae = mean_absolute_error(y_test, predictions)\n",
    "print(f'{test_mae=:.04f}')"
   ]
  },
  {
   "cell_type": "code",
   "execution_count": 10,
   "metadata": {},
   "outputs": [],
   "source": [
    "# class BaselineModelLast4Weeks:\n",
    "#     def fit(self, X_train: pd.DataFrame, y_train: pd.Series):\n",
    "#         pass\n",
    "#     def predict(self, X_test: pd.DataFrame)-> np.ndarray:\n",
    "#         return 0.25*(X_test[f'rides_previous_{24*7}_hour'] + \n",
    "#                     X_test[f'rides_previous_{24*7*2}_hour'] + \n",
    "#                     X_test[f'rides_previous_{24*7*3}_hour'] + \n",
    "#                     X_test[f'rides_previous_{24*7*4}_hour'])"
   ]
  },
  {
   "cell_type": "code",
   "execution_count": 11,
   "metadata": {},
   "outputs": [
    {
     "name": "stdout",
     "output_type": "stream",
     "text": [
      "test_mae=5.8064\n"
     ]
    }
   ],
   "source": [
    "model = BaselineModelLast4Weeks()\n",
    "model.fit(X_train, y_train)\n",
    "predictions = model.predict(X_test)\n",
    "\n",
    "test_mae = mean_absolute_error(y_test, predictions)\n",
    "print(f'{test_mae=:.04f}')"
   ]
  }
 ],
 "metadata": {
  "kernelspec": {
   "display_name": "taxi-demand-predictor-A_2bi8Y3-py3.11",
   "language": "python",
   "name": "python3"
  },
  "language_info": {
   "codemirror_mode": {
    "name": "ipython",
    "version": 3
   },
   "file_extension": ".py",
   "mimetype": "text/x-python",
   "name": "python",
   "nbconvert_exporter": "python",
   "pygments_lexer": "ipython3",
   "version": "3.11.9"
  }
 },
 "nbformat": 4,
 "nbformat_minor": 2
}
